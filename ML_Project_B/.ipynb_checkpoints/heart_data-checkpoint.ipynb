{
 "cells": [
  {
   "cell_type": "code",
   "execution_count": 1,
   "id": "9cb9a37f-6586-424b-a25f-31d8ba44b51f",
   "metadata": {},
   "outputs": [
    {
     "name": "stderr",
     "output_type": "stream",
     "text": [
      "\u001b[32m\u001b[1m  Activating\u001b[22m\u001b[39m project at `~/Desktop/ML_Project_B`\n"
     ]
    }
   ],
   "source": [
    "using Pkg\n",
    "Pkg.activate(\".\")"
   ]
  },
  {
   "cell_type": "code",
   "execution_count": 2,
   "id": "77e490f9-831c-4b2d-9070-9c7b61af3052",
   "metadata": {},
   "outputs": [],
   "source": [
    "using CSV\n",
    "using ScikitLearn, RDatasets, DataFrames"
   ]
  },
  {
   "cell_type": "code",
   "execution_count": 3,
   "id": "bccfd8e8-5e18-4a66-a747-5f09ddfec827",
   "metadata": {},
   "outputs": [
    {
     "data": {
      "text/plain": [
       "\"Data/framingham.csv\""
      ]
     },
     "execution_count": 3,
     "metadata": {},
     "output_type": "execute_result"
    }
   ],
   "source": [
    "file_path = \"Data/framingham.csv\""
   ]
  },
  {
   "cell_type": "code",
   "execution_count": 4,
   "id": "2068b2b5-ddc3-464f-b117-979243d70f52",
   "metadata": {},
   "outputs": [
    {
     "data": {
      "text/html": [
       "<div><div style = \"float: left;\"><span>4238×16 DataFrame</span></div><div style = \"float: right;\"><span style = \"font-style: italic;\">4213 rows omitted</span></div><div style = \"clear: both;\"></div></div><div class = \"data-frame\" style = \"overflow-x: scroll;\"><table class = \"data-frame\" style = \"margin-bottom: 6px;\"><thead><tr class = \"header\"><th class = \"rowNumber\" style = \"font-weight: bold; text-align: right;\">Row</th><th style = \"text-align: left;\">male</th><th style = \"text-align: left;\">age</th><th style = \"text-align: left;\">education</th><th style = \"text-align: left;\">currentSmoker</th><th style = \"text-align: left;\">cigsPerDay</th><th style = \"text-align: left;\">BPMeds</th><th style = \"text-align: left;\">prevalentStroke</th><th style = \"text-align: left;\">prevalentHyp</th><th style = \"text-align: left;\">diabetes</th><th style = \"text-align: left;\">totChol</th><th style = \"text-align: left;\">sysBP</th><th style = \"text-align: left;\">diaBP</th><th style = \"text-align: left;\">BMI</th><th style = \"text-align: left;\">heartRate</th><th style = \"text-align: left;\">glucose</th><th style = \"text-align: left;\">TenYearCHD</th></tr><tr class = \"subheader headerLastRow\"><th class = \"rowNumber\" style = \"font-weight: bold; text-align: right;\"></th><th title = \"Int64\" style = \"text-align: left;\">Int64</th><th title = \"Int64\" style = \"text-align: left;\">Int64</th><th title = \"String3\" style = \"text-align: left;\">String3</th><th title = \"Int64\" style = \"text-align: left;\">Int64</th><th title = \"String3\" style = \"text-align: left;\">String3</th><th title = \"String3\" style = \"text-align: left;\">String3</th><th title = \"Int64\" style = \"text-align: left;\">Int64</th><th title = \"Int64\" style = \"text-align: left;\">Int64</th><th title = \"Int64\" style = \"text-align: left;\">Int64</th><th title = \"String3\" style = \"text-align: left;\">String3</th><th title = \"Float64\" style = \"text-align: left;\">Float64</th><th title = \"Float64\" style = \"text-align: left;\">Float64</th><th title = \"String7\" style = \"text-align: left;\">String7</th><th title = \"String3\" style = \"text-align: left;\">String3</th><th title = \"String3\" style = \"text-align: left;\">String3</th><th title = \"Int64\" style = \"text-align: left;\">Int64</th></tr></thead><tbody><tr><td class = \"rowNumber\" style = \"font-weight: bold; text-align: right;\">1</td><td style = \"text-align: right;\">1</td><td style = \"text-align: right;\">39</td><td style = \"text-align: left;\">4</td><td style = \"text-align: right;\">0</td><td style = \"text-align: left;\">0</td><td style = \"text-align: left;\">0</td><td style = \"text-align: right;\">0</td><td style = \"text-align: right;\">0</td><td style = \"text-align: right;\">0</td><td style = \"text-align: left;\">195</td><td style = \"text-align: right;\">106.0</td><td style = \"text-align: right;\">70.0</td><td style = \"text-align: left;\">26.97</td><td style = \"text-align: left;\">80</td><td style = \"text-align: left;\">77</td><td style = \"text-align: right;\">0</td></tr><tr><td class = \"rowNumber\" style = \"font-weight: bold; text-align: right;\">2</td><td style = \"text-align: right;\">0</td><td style = \"text-align: right;\">46</td><td style = \"text-align: left;\">2</td><td style = \"text-align: right;\">0</td><td style = \"text-align: left;\">0</td><td style = \"text-align: left;\">0</td><td style = \"text-align: right;\">0</td><td style = \"text-align: right;\">0</td><td style = \"text-align: right;\">0</td><td style = \"text-align: left;\">250</td><td style = \"text-align: right;\">121.0</td><td style = \"text-align: right;\">81.0</td><td style = \"text-align: left;\">28.73</td><td style = \"text-align: left;\">95</td><td style = \"text-align: left;\">76</td><td style = \"text-align: right;\">0</td></tr><tr><td class = \"rowNumber\" style = \"font-weight: bold; text-align: right;\">3</td><td style = \"text-align: right;\">1</td><td style = \"text-align: right;\">48</td><td style = \"text-align: left;\">1</td><td style = \"text-align: right;\">1</td><td style = \"text-align: left;\">20</td><td style = \"text-align: left;\">0</td><td style = \"text-align: right;\">0</td><td style = \"text-align: right;\">0</td><td style = \"text-align: right;\">0</td><td style = \"text-align: left;\">245</td><td style = \"text-align: right;\">127.5</td><td style = \"text-align: right;\">80.0</td><td style = \"text-align: left;\">25.34</td><td style = \"text-align: left;\">75</td><td style = \"text-align: left;\">70</td><td style = \"text-align: right;\">0</td></tr><tr><td class = \"rowNumber\" style = \"font-weight: bold; text-align: right;\">4</td><td style = \"text-align: right;\">0</td><td style = \"text-align: right;\">61</td><td style = \"text-align: left;\">3</td><td style = \"text-align: right;\">1</td><td style = \"text-align: left;\">30</td><td style = \"text-align: left;\">0</td><td style = \"text-align: right;\">0</td><td style = \"text-align: right;\">1</td><td style = \"text-align: right;\">0</td><td style = \"text-align: left;\">225</td><td style = \"text-align: right;\">150.0</td><td style = \"text-align: right;\">95.0</td><td style = \"text-align: left;\">28.58</td><td style = \"text-align: left;\">65</td><td style = \"text-align: left;\">103</td><td style = \"text-align: right;\">1</td></tr><tr><td class = \"rowNumber\" style = \"font-weight: bold; text-align: right;\">5</td><td style = \"text-align: right;\">0</td><td style = \"text-align: right;\">46</td><td style = \"text-align: left;\">3</td><td style = \"text-align: right;\">1</td><td style = \"text-align: left;\">23</td><td style = \"text-align: left;\">0</td><td style = \"text-align: right;\">0</td><td style = \"text-align: right;\">0</td><td style = \"text-align: right;\">0</td><td style = \"text-align: left;\">285</td><td style = \"text-align: right;\">130.0</td><td style = \"text-align: right;\">84.0</td><td style = \"text-align: left;\">23.1</td><td style = \"text-align: left;\">85</td><td style = \"text-align: left;\">85</td><td style = \"text-align: right;\">0</td></tr><tr><td class = \"rowNumber\" style = \"font-weight: bold; text-align: right;\">6</td><td style = \"text-align: right;\">0</td><td style = \"text-align: right;\">43</td><td style = \"text-align: left;\">2</td><td style = \"text-align: right;\">0</td><td style = \"text-align: left;\">0</td><td style = \"text-align: left;\">0</td><td style = \"text-align: right;\">0</td><td style = \"text-align: right;\">1</td><td style = \"text-align: right;\">0</td><td style = \"text-align: left;\">228</td><td style = \"text-align: right;\">180.0</td><td style = \"text-align: right;\">110.0</td><td style = \"text-align: left;\">30.3</td><td style = \"text-align: left;\">77</td><td style = \"text-align: left;\">99</td><td style = \"text-align: right;\">0</td></tr><tr><td class = \"rowNumber\" style = \"font-weight: bold; text-align: right;\">7</td><td style = \"text-align: right;\">0</td><td style = \"text-align: right;\">63</td><td style = \"text-align: left;\">1</td><td style = \"text-align: right;\">0</td><td style = \"text-align: left;\">0</td><td style = \"text-align: left;\">0</td><td style = \"text-align: right;\">0</td><td style = \"text-align: right;\">0</td><td style = \"text-align: right;\">0</td><td style = \"text-align: left;\">205</td><td style = \"text-align: right;\">138.0</td><td style = \"text-align: right;\">71.0</td><td style = \"text-align: left;\">33.11</td><td style = \"text-align: left;\">60</td><td style = \"text-align: left;\">85</td><td style = \"text-align: right;\">1</td></tr><tr><td class = \"rowNumber\" style = \"font-weight: bold; text-align: right;\">8</td><td style = \"text-align: right;\">0</td><td style = \"text-align: right;\">45</td><td style = \"text-align: left;\">2</td><td style = \"text-align: right;\">1</td><td style = \"text-align: left;\">20</td><td style = \"text-align: left;\">0</td><td style = \"text-align: right;\">0</td><td style = \"text-align: right;\">0</td><td style = \"text-align: right;\">0</td><td style = \"text-align: left;\">313</td><td style = \"text-align: right;\">100.0</td><td style = \"text-align: right;\">71.0</td><td style = \"text-align: left;\">21.68</td><td style = \"text-align: left;\">79</td><td style = \"text-align: left;\">78</td><td style = \"text-align: right;\">0</td></tr><tr><td class = \"rowNumber\" style = \"font-weight: bold; text-align: right;\">9</td><td style = \"text-align: right;\">1</td><td style = \"text-align: right;\">52</td><td style = \"text-align: left;\">1</td><td style = \"text-align: right;\">0</td><td style = \"text-align: left;\">0</td><td style = \"text-align: left;\">0</td><td style = \"text-align: right;\">0</td><td style = \"text-align: right;\">1</td><td style = \"text-align: right;\">0</td><td style = \"text-align: left;\">260</td><td style = \"text-align: right;\">141.5</td><td style = \"text-align: right;\">89.0</td><td style = \"text-align: left;\">26.36</td><td style = \"text-align: left;\">76</td><td style = \"text-align: left;\">79</td><td style = \"text-align: right;\">0</td></tr><tr><td class = \"rowNumber\" style = \"font-weight: bold; text-align: right;\">10</td><td style = \"text-align: right;\">1</td><td style = \"text-align: right;\">43</td><td style = \"text-align: left;\">1</td><td style = \"text-align: right;\">1</td><td style = \"text-align: left;\">30</td><td style = \"text-align: left;\">0</td><td style = \"text-align: right;\">0</td><td style = \"text-align: right;\">1</td><td style = \"text-align: right;\">0</td><td style = \"text-align: left;\">225</td><td style = \"text-align: right;\">162.0</td><td style = \"text-align: right;\">107.0</td><td style = \"text-align: left;\">23.61</td><td style = \"text-align: left;\">93</td><td style = \"text-align: left;\">88</td><td style = \"text-align: right;\">0</td></tr><tr><td class = \"rowNumber\" style = \"font-weight: bold; text-align: right;\">11</td><td style = \"text-align: right;\">0</td><td style = \"text-align: right;\">50</td><td style = \"text-align: left;\">1</td><td style = \"text-align: right;\">0</td><td style = \"text-align: left;\">0</td><td style = \"text-align: left;\">0</td><td style = \"text-align: right;\">0</td><td style = \"text-align: right;\">0</td><td style = \"text-align: right;\">0</td><td style = \"text-align: left;\">254</td><td style = \"text-align: right;\">133.0</td><td style = \"text-align: right;\">76.0</td><td style = \"text-align: left;\">22.91</td><td style = \"text-align: left;\">75</td><td style = \"text-align: left;\">76</td><td style = \"text-align: right;\">0</td></tr><tr><td class = \"rowNumber\" style = \"font-weight: bold; text-align: right;\">12</td><td style = \"text-align: right;\">0</td><td style = \"text-align: right;\">43</td><td style = \"text-align: left;\">2</td><td style = \"text-align: right;\">0</td><td style = \"text-align: left;\">0</td><td style = \"text-align: left;\">0</td><td style = \"text-align: right;\">0</td><td style = \"text-align: right;\">0</td><td style = \"text-align: right;\">0</td><td style = \"text-align: left;\">247</td><td style = \"text-align: right;\">131.0</td><td style = \"text-align: right;\">88.0</td><td style = \"text-align: left;\">27.64</td><td style = \"text-align: left;\">72</td><td style = \"text-align: left;\">61</td><td style = \"text-align: right;\">0</td></tr><tr><td class = \"rowNumber\" style = \"font-weight: bold; text-align: right;\">13</td><td style = \"text-align: right;\">1</td><td style = \"text-align: right;\">46</td><td style = \"text-align: left;\">1</td><td style = \"text-align: right;\">1</td><td style = \"text-align: left;\">15</td><td style = \"text-align: left;\">0</td><td style = \"text-align: right;\">0</td><td style = \"text-align: right;\">1</td><td style = \"text-align: right;\">0</td><td style = \"text-align: left;\">294</td><td style = \"text-align: right;\">142.0</td><td style = \"text-align: right;\">94.0</td><td style = \"text-align: left;\">26.31</td><td style = \"text-align: left;\">98</td><td style = \"text-align: left;\">64</td><td style = \"text-align: right;\">0</td></tr><tr><td style = \"text-align: right;\">&vellip;</td><td style = \"text-align: right;\">&vellip;</td><td style = \"text-align: right;\">&vellip;</td><td style = \"text-align: right;\">&vellip;</td><td style = \"text-align: right;\">&vellip;</td><td style = \"text-align: right;\">&vellip;</td><td style = \"text-align: right;\">&vellip;</td><td style = \"text-align: right;\">&vellip;</td><td style = \"text-align: right;\">&vellip;</td><td style = \"text-align: right;\">&vellip;</td><td style = \"text-align: right;\">&vellip;</td><td style = \"text-align: right;\">&vellip;</td><td style = \"text-align: right;\">&vellip;</td><td style = \"text-align: right;\">&vellip;</td><td style = \"text-align: right;\">&vellip;</td><td style = \"text-align: right;\">&vellip;</td><td style = \"text-align: right;\">&vellip;</td></tr><tr><td class = \"rowNumber\" style = \"font-weight: bold; text-align: right;\">4227</td><td style = \"text-align: right;\">1</td><td style = \"text-align: right;\">58</td><td style = \"text-align: left;\">1</td><td style = \"text-align: right;\">0</td><td style = \"text-align: left;\">0</td><td style = \"text-align: left;\">0</td><td style = \"text-align: right;\">0</td><td style = \"text-align: right;\">0</td><td style = \"text-align: right;\">0</td><td style = \"text-align: left;\">233</td><td style = \"text-align: right;\">125.5</td><td style = \"text-align: right;\">84.0</td><td style = \"text-align: left;\">26.05</td><td style = \"text-align: left;\">67</td><td style = \"text-align: left;\">76</td><td style = \"text-align: right;\">1</td></tr><tr><td class = \"rowNumber\" style = \"font-weight: bold; text-align: right;\">4228</td><td style = \"text-align: right;\">1</td><td style = \"text-align: right;\">43</td><td style = \"text-align: left;\">4</td><td style = \"text-align: right;\">1</td><td style = \"text-align: left;\">20</td><td style = \"text-align: left;\">0</td><td style = \"text-align: right;\">0</td><td style = \"text-align: right;\">0</td><td style = \"text-align: right;\">0</td><td style = \"text-align: left;\">187</td><td style = \"text-align: right;\">129.5</td><td style = \"text-align: right;\">88.0</td><td style = \"text-align: left;\">25.62</td><td style = \"text-align: left;\">80</td><td style = \"text-align: left;\">75</td><td style = \"text-align: right;\">0</td></tr><tr><td class = \"rowNumber\" style = \"font-weight: bold; text-align: right;\">4229</td><td style = \"text-align: right;\">0</td><td style = \"text-align: right;\">50</td><td style = \"text-align: left;\">1</td><td style = \"text-align: right;\">0</td><td style = \"text-align: left;\">0</td><td style = \"text-align: left;\">0</td><td style = \"text-align: right;\">0</td><td style = \"text-align: right;\">1</td><td style = \"text-align: right;\">1</td><td style = \"text-align: left;\">260</td><td style = \"text-align: right;\">190.0</td><td style = \"text-align: right;\">130.0</td><td style = \"text-align: left;\">43.67</td><td style = \"text-align: left;\">85</td><td style = \"text-align: left;\">260</td><td style = \"text-align: right;\">0</td></tr><tr><td class = \"rowNumber\" style = \"font-weight: bold; text-align: right;\">4230</td><td style = \"text-align: right;\">0</td><td style = \"text-align: right;\">51</td><td style = \"text-align: left;\">3</td><td style = \"text-align: right;\">1</td><td style = \"text-align: left;\">20</td><td style = \"text-align: left;\">0</td><td style = \"text-align: right;\">0</td><td style = \"text-align: right;\">1</td><td style = \"text-align: right;\">0</td><td style = \"text-align: left;\">251</td><td style = \"text-align: right;\">140.0</td><td style = \"text-align: right;\">80.0</td><td style = \"text-align: left;\">25.6</td><td style = \"text-align: left;\">75</td><td style = \"text-align: left;\">NA</td><td style = \"text-align: right;\">0</td></tr><tr><td class = \"rowNumber\" style = \"font-weight: bold; text-align: right;\">4231</td><td style = \"text-align: right;\">0</td><td style = \"text-align: right;\">56</td><td style = \"text-align: left;\">1</td><td style = \"text-align: right;\">1</td><td style = \"text-align: left;\">3</td><td style = \"text-align: left;\">0</td><td style = \"text-align: right;\">0</td><td style = \"text-align: right;\">1</td><td style = \"text-align: right;\">0</td><td style = \"text-align: left;\">268</td><td style = \"text-align: right;\">170.0</td><td style = \"text-align: right;\">102.0</td><td style = \"text-align: left;\">22.89</td><td style = \"text-align: left;\">57</td><td style = \"text-align: left;\">NA</td><td style = \"text-align: right;\">0</td></tr><tr><td class = \"rowNumber\" style = \"font-weight: bold; text-align: right;\">4232</td><td style = \"text-align: right;\">1</td><td style = \"text-align: right;\">58</td><td style = \"text-align: left;\">3</td><td style = \"text-align: right;\">0</td><td style = \"text-align: left;\">0</td><td style = \"text-align: left;\">0</td><td style = \"text-align: right;\">0</td><td style = \"text-align: right;\">1</td><td style = \"text-align: right;\">0</td><td style = \"text-align: left;\">187</td><td style = \"text-align: right;\">141.0</td><td style = \"text-align: right;\">81.0</td><td style = \"text-align: left;\">24.96</td><td style = \"text-align: left;\">80</td><td style = \"text-align: left;\">81</td><td style = \"text-align: right;\">0</td></tr><tr><td class = \"rowNumber\" style = \"font-weight: bold; text-align: right;\">4233</td><td style = \"text-align: right;\">1</td><td style = \"text-align: right;\">68</td><td style = \"text-align: left;\">1</td><td style = \"text-align: right;\">0</td><td style = \"text-align: left;\">0</td><td style = \"text-align: left;\">0</td><td style = \"text-align: right;\">0</td><td style = \"text-align: right;\">1</td><td style = \"text-align: right;\">0</td><td style = \"text-align: left;\">176</td><td style = \"text-align: right;\">168.0</td><td style = \"text-align: right;\">97.0</td><td style = \"text-align: left;\">23.14</td><td style = \"text-align: left;\">60</td><td style = \"text-align: left;\">79</td><td style = \"text-align: right;\">1</td></tr><tr><td class = \"rowNumber\" style = \"font-weight: bold; text-align: right;\">4234</td><td style = \"text-align: right;\">1</td><td style = \"text-align: right;\">50</td><td style = \"text-align: left;\">1</td><td style = \"text-align: right;\">1</td><td style = \"text-align: left;\">1</td><td style = \"text-align: left;\">0</td><td style = \"text-align: right;\">0</td><td style = \"text-align: right;\">1</td><td style = \"text-align: right;\">0</td><td style = \"text-align: left;\">313</td><td style = \"text-align: right;\">179.0</td><td style = \"text-align: right;\">92.0</td><td style = \"text-align: left;\">25.97</td><td style = \"text-align: left;\">66</td><td style = \"text-align: left;\">86</td><td style = \"text-align: right;\">1</td></tr><tr><td class = \"rowNumber\" style = \"font-weight: bold; text-align: right;\">4235</td><td style = \"text-align: right;\">1</td><td style = \"text-align: right;\">51</td><td style = \"text-align: left;\">3</td><td style = \"text-align: right;\">1</td><td style = \"text-align: left;\">43</td><td style = \"text-align: left;\">0</td><td style = \"text-align: right;\">0</td><td style = \"text-align: right;\">0</td><td style = \"text-align: right;\">0</td><td style = \"text-align: left;\">207</td><td style = \"text-align: right;\">126.5</td><td style = \"text-align: right;\">80.0</td><td style = \"text-align: left;\">19.71</td><td style = \"text-align: left;\">65</td><td style = \"text-align: left;\">68</td><td style = \"text-align: right;\">0</td></tr><tr><td class = \"rowNumber\" style = \"font-weight: bold; text-align: right;\">4236</td><td style = \"text-align: right;\">0</td><td style = \"text-align: right;\">48</td><td style = \"text-align: left;\">2</td><td style = \"text-align: right;\">1</td><td style = \"text-align: left;\">20</td><td style = \"text-align: left;\">NA</td><td style = \"text-align: right;\">0</td><td style = \"text-align: right;\">0</td><td style = \"text-align: right;\">0</td><td style = \"text-align: left;\">248</td><td style = \"text-align: right;\">131.0</td><td style = \"text-align: right;\">72.0</td><td style = \"text-align: left;\">22</td><td style = \"text-align: left;\">84</td><td style = \"text-align: left;\">86</td><td style = \"text-align: right;\">0</td></tr><tr><td class = \"rowNumber\" style = \"font-weight: bold; text-align: right;\">4237</td><td style = \"text-align: right;\">0</td><td style = \"text-align: right;\">44</td><td style = \"text-align: left;\">1</td><td style = \"text-align: right;\">1</td><td style = \"text-align: left;\">15</td><td style = \"text-align: left;\">0</td><td style = \"text-align: right;\">0</td><td style = \"text-align: right;\">0</td><td style = \"text-align: right;\">0</td><td style = \"text-align: left;\">210</td><td style = \"text-align: right;\">126.5</td><td style = \"text-align: right;\">87.0</td><td style = \"text-align: left;\">19.16</td><td style = \"text-align: left;\">86</td><td style = \"text-align: left;\">NA</td><td style = \"text-align: right;\">0</td></tr><tr><td class = \"rowNumber\" style = \"font-weight: bold; text-align: right;\">4238</td><td style = \"text-align: right;\">0</td><td style = \"text-align: right;\">52</td><td style = \"text-align: left;\">2</td><td style = \"text-align: right;\">0</td><td style = \"text-align: left;\">0</td><td style = \"text-align: left;\">0</td><td style = \"text-align: right;\">0</td><td style = \"text-align: right;\">0</td><td style = \"text-align: right;\">0</td><td style = \"text-align: left;\">269</td><td style = \"text-align: right;\">133.5</td><td style = \"text-align: right;\">83.0</td><td style = \"text-align: left;\">21.47</td><td style = \"text-align: left;\">80</td><td style = \"text-align: left;\">107</td><td style = \"text-align: right;\">0</td></tr></tbody></table></div>"
      ],
      "text/latex": [
       "\\begin{tabular}{r|ccccccccc}\n",
       "\t& male & age & education & currentSmoker & cigsPerDay & BPMeds & prevalentStroke & prevalentHyp & \\\\\n",
       "\t\\hline\n",
       "\t& Int64 & Int64 & String3 & Int64 & String3 & String3 & Int64 & Int64 & \\\\\n",
       "\t\\hline\n",
       "\t1 & 1 & 39 & 4 & 0 & 0 & 0 & 0 & 0 & $\\dots$ \\\\\n",
       "\t2 & 0 & 46 & 2 & 0 & 0 & 0 & 0 & 0 & $\\dots$ \\\\\n",
       "\t3 & 1 & 48 & 1 & 1 & 20 & 0 & 0 & 0 & $\\dots$ \\\\\n",
       "\t4 & 0 & 61 & 3 & 1 & 30 & 0 & 0 & 1 & $\\dots$ \\\\\n",
       "\t5 & 0 & 46 & 3 & 1 & 23 & 0 & 0 & 0 & $\\dots$ \\\\\n",
       "\t6 & 0 & 43 & 2 & 0 & 0 & 0 & 0 & 1 & $\\dots$ \\\\\n",
       "\t7 & 0 & 63 & 1 & 0 & 0 & 0 & 0 & 0 & $\\dots$ \\\\\n",
       "\t8 & 0 & 45 & 2 & 1 & 20 & 0 & 0 & 0 & $\\dots$ \\\\\n",
       "\t9 & 1 & 52 & 1 & 0 & 0 & 0 & 0 & 1 & $\\dots$ \\\\\n",
       "\t10 & 1 & 43 & 1 & 1 & 30 & 0 & 0 & 1 & $\\dots$ \\\\\n",
       "\t11 & 0 & 50 & 1 & 0 & 0 & 0 & 0 & 0 & $\\dots$ \\\\\n",
       "\t12 & 0 & 43 & 2 & 0 & 0 & 0 & 0 & 0 & $\\dots$ \\\\\n",
       "\t13 & 1 & 46 & 1 & 1 & 15 & 0 & 0 & 1 & $\\dots$ \\\\\n",
       "\t14 & 0 & 41 & 3 & 0 & 0 & 1 & 0 & 1 & $\\dots$ \\\\\n",
       "\t15 & 0 & 39 & 2 & 1 & 9 & 0 & 0 & 0 & $\\dots$ \\\\\n",
       "\t16 & 0 & 38 & 2 & 1 & 20 & 0 & 0 & 1 & $\\dots$ \\\\\n",
       "\t17 & 1 & 48 & 3 & 1 & 10 & 0 & 0 & 1 & $\\dots$ \\\\\n",
       "\t18 & 0 & 46 & 2 & 1 & 20 & 0 & 0 & 0 & $\\dots$ \\\\\n",
       "\t19 & 0 & 38 & 2 & 1 & 5 & 0 & 0 & 0 & $\\dots$ \\\\\n",
       "\t20 & 1 & 41 & 2 & 0 & 0 & 0 & 0 & 0 & $\\dots$ \\\\\n",
       "\t21 & 0 & 42 & 2 & 1 & 30 & 0 & 0 & 0 & $\\dots$ \\\\\n",
       "\t22 & 0 & 43 & 1 & 0 & 0 & 0 & 0 & 0 & $\\dots$ \\\\\n",
       "\t23 & 0 & 52 & 1 & 0 & 0 & 0 & 0 & 0 & $\\dots$ \\\\\n",
       "\t24 & 0 & 52 & 3 & 1 & 20 & 0 & 0 & 0 & $\\dots$ \\\\\n",
       "\t25 & 1 & 44 & 2 & 1 & 30 & 0 & 0 & 1 & $\\dots$ \\\\\n",
       "\t26 & 1 & 47 & 4 & 1 & 20 & 0 & 0 & 0 & $\\dots$ \\\\\n",
       "\t27 & 0 & 60 & 1 & 0 & 0 & 0 & 0 & 0 & $\\dots$ \\\\\n",
       "\t28 & 1 & 35 & 2 & 1 & 20 & 0 & 0 & 1 & $\\dots$ \\\\\n",
       "\t29 & 0 & 61 & 3 & 0 & 0 & 0 & 0 & 1 & $\\dots$ \\\\\n",
       "\t30 & 0 & 60 & 1 & 0 & 0 & 0 & 0 & 0 & $\\dots$ \\\\\n",
       "\t$\\dots$ & $\\dots$ & $\\dots$ & $\\dots$ & $\\dots$ & $\\dots$ & $\\dots$ & $\\dots$ & $\\dots$ &  \\\\\n",
       "\\end{tabular}\n"
      ],
      "text/plain": [
       "\u001b[1m4238×16 DataFrame\u001b[0m\n",
       "\u001b[1m  Row \u001b[0m│\u001b[1m male  \u001b[0m\u001b[1m age   \u001b[0m\u001b[1m education \u001b[0m\u001b[1m currentSmoker \u001b[0m\u001b[1m cigsPerDay \u001b[0m\u001b[1m BPMeds  \u001b[0m\u001b[1m prevalent\u001b[0m ⋯\n",
       "      │\u001b[90m Int64 \u001b[0m\u001b[90m Int64 \u001b[0m\u001b[90m String3   \u001b[0m\u001b[90m Int64         \u001b[0m\u001b[90m String3    \u001b[0m\u001b[90m String3 \u001b[0m\u001b[90m Int64    \u001b[0m ⋯\n",
       "──────┼─────────────────────────────────────────────────────────────────────────\n",
       "    1 │     1     39  4                      0  0           0                  ⋯\n",
       "    2 │     0     46  2                      0  0           0\n",
       "    3 │     1     48  1                      1  20          0\n",
       "    4 │     0     61  3                      1  30          0\n",
       "    5 │     0     46  3                      1  23          0                  ⋯\n",
       "    6 │     0     43  2                      0  0           0\n",
       "    7 │     0     63  1                      0  0           0\n",
       "    8 │     0     45  2                      1  20          0\n",
       "    9 │     1     52  1                      0  0           0                  ⋯\n",
       "   10 │     1     43  1                      1  30          0\n",
       "   11 │     0     50  1                      0  0           0\n",
       "  ⋮   │   ⋮      ⋮        ⋮            ⋮            ⋮          ⋮            ⋮  ⋱\n",
       " 4229 │     0     50  1                      0  0           0\n",
       " 4230 │     0     51  3                      1  20          0                  ⋯\n",
       " 4231 │     0     56  1                      1  3           0\n",
       " 4232 │     1     58  3                      0  0           0\n",
       " 4233 │     1     68  1                      0  0           0\n",
       " 4234 │     1     50  1                      1  1           0                  ⋯\n",
       " 4235 │     1     51  3                      1  43          0\n",
       " 4236 │     0     48  2                      1  20          NA\n",
       " 4237 │     0     44  1                      1  15          0\n",
       " 4238 │     0     52  2                      0  0           0                  ⋯\n",
       "\u001b[36m                                                10 columns and 4217 rows omitted\u001b[0m"
      ]
     },
     "execution_count": 4,
     "metadata": {},
     "output_type": "execute_result"
    }
   ],
   "source": [
    "data = CSV.read(file_path, DataFrame)\n",
    "\n",
    "data_cleaned = dropmissing(data)"
   ]
  },
  {
   "cell_type": "code",
   "execution_count": 5,
   "id": "e3fa0b0d-9efb-479a-a4ec-477e71cb6931",
   "metadata": {},
   "outputs": [
    {
     "name": "stdout",
     "output_type": "stream",
     "text": [
      "Data Types of All Columns:\n",
      "male: Int64\n",
      "age: Int64\n",
      "education: String3\n",
      "currentSmoker: Int64\n",
      "cigsPerDay: String3\n",
      "BPMeds: String3\n",
      "prevalentStroke: Int64\n",
      "prevalentHyp: Int64\n",
      "diabetes: Int64\n",
      "totChol: String3\n",
      "sysBP: Float64\n",
      "diaBP: Float64\n",
      "BMI: String7\n",
      "heartRate: String3\n",
      "glucose: String3\n",
      "TenYearCHD: Int64\n"
     ]
    }
   ],
   "source": [
    "println(\"Data Types of All Columns:\")\n",
    "for col in names(data_cleaned)\n",
    "    println(\"$col: $(eltype(data_cleaned[:, col]))\")\n",
    "end"
   ]
  },
  {
   "cell_type": "code",
   "execution_count": 6,
   "id": "1255f600-a915-4416-9e48-d7424886899c",
   "metadata": {},
   "outputs": [
    {
     "data": {
      "text/html": [
       "<div><div style = \"float: left;\"><span>4238×9 DataFrame</span></div><div style = \"float: right;\"><span style = \"font-style: italic;\">4213 rows omitted</span></div><div style = \"clear: both;\"></div></div><div class = \"data-frame\" style = \"overflow-x: scroll;\"><table class = \"data-frame\" style = \"margin-bottom: 6px;\"><thead><tr class = \"header\"><th class = \"rowNumber\" style = \"font-weight: bold; text-align: right;\">Row</th><th style = \"text-align: left;\">male</th><th style = \"text-align: left;\">age</th><th style = \"text-align: left;\">currentSmoker</th><th style = \"text-align: left;\">prevalentStroke</th><th style = \"text-align: left;\">prevalentHyp</th><th style = \"text-align: left;\">diabetes</th><th style = \"text-align: left;\">sysBP</th><th style = \"text-align: left;\">diaBP</th><th style = \"text-align: left;\">TenYearCHD</th></tr><tr class = \"subheader headerLastRow\"><th class = \"rowNumber\" style = \"font-weight: bold; text-align: right;\"></th><th title = \"Int64\" style = \"text-align: left;\">Int64</th><th title = \"Int64\" style = \"text-align: left;\">Int64</th><th title = \"Int64\" style = \"text-align: left;\">Int64</th><th title = \"Int64\" style = \"text-align: left;\">Int64</th><th title = \"Int64\" style = \"text-align: left;\">Int64</th><th title = \"Int64\" style = \"text-align: left;\">Int64</th><th title = \"Float64\" style = \"text-align: left;\">Float64</th><th title = \"Float64\" style = \"text-align: left;\">Float64</th><th title = \"Int64\" style = \"text-align: left;\">Int64</th></tr></thead><tbody><tr><td class = \"rowNumber\" style = \"font-weight: bold; text-align: right;\">1</td><td style = \"text-align: right;\">1</td><td style = \"text-align: right;\">39</td><td style = \"text-align: right;\">0</td><td style = \"text-align: right;\">0</td><td style = \"text-align: right;\">0</td><td style = \"text-align: right;\">0</td><td style = \"text-align: right;\">106.0</td><td style = \"text-align: right;\">70.0</td><td style = \"text-align: right;\">0</td></tr><tr><td class = \"rowNumber\" style = \"font-weight: bold; text-align: right;\">2</td><td style = \"text-align: right;\">0</td><td style = \"text-align: right;\">46</td><td style = \"text-align: right;\">0</td><td style = \"text-align: right;\">0</td><td style = \"text-align: right;\">0</td><td style = \"text-align: right;\">0</td><td style = \"text-align: right;\">121.0</td><td style = \"text-align: right;\">81.0</td><td style = \"text-align: right;\">0</td></tr><tr><td class = \"rowNumber\" style = \"font-weight: bold; text-align: right;\">3</td><td style = \"text-align: right;\">1</td><td style = \"text-align: right;\">48</td><td style = \"text-align: right;\">1</td><td style = \"text-align: right;\">0</td><td style = \"text-align: right;\">0</td><td style = \"text-align: right;\">0</td><td style = \"text-align: right;\">127.5</td><td style = \"text-align: right;\">80.0</td><td style = \"text-align: right;\">0</td></tr><tr><td class = \"rowNumber\" style = \"font-weight: bold; text-align: right;\">4</td><td style = \"text-align: right;\">0</td><td style = \"text-align: right;\">61</td><td style = \"text-align: right;\">1</td><td style = \"text-align: right;\">0</td><td style = \"text-align: right;\">1</td><td style = \"text-align: right;\">0</td><td style = \"text-align: right;\">150.0</td><td style = \"text-align: right;\">95.0</td><td style = \"text-align: right;\">1</td></tr><tr><td class = \"rowNumber\" style = \"font-weight: bold; text-align: right;\">5</td><td style = \"text-align: right;\">0</td><td style = \"text-align: right;\">46</td><td style = \"text-align: right;\">1</td><td style = \"text-align: right;\">0</td><td style = \"text-align: right;\">0</td><td style = \"text-align: right;\">0</td><td style = \"text-align: right;\">130.0</td><td style = \"text-align: right;\">84.0</td><td style = \"text-align: right;\">0</td></tr><tr><td class = \"rowNumber\" style = \"font-weight: bold; text-align: right;\">6</td><td style = \"text-align: right;\">0</td><td style = \"text-align: right;\">43</td><td style = \"text-align: right;\">0</td><td style = \"text-align: right;\">0</td><td style = \"text-align: right;\">1</td><td style = \"text-align: right;\">0</td><td style = \"text-align: right;\">180.0</td><td style = \"text-align: right;\">110.0</td><td style = \"text-align: right;\">0</td></tr><tr><td class = \"rowNumber\" style = \"font-weight: bold; text-align: right;\">7</td><td style = \"text-align: right;\">0</td><td style = \"text-align: right;\">63</td><td style = \"text-align: right;\">0</td><td style = \"text-align: right;\">0</td><td style = \"text-align: right;\">0</td><td style = \"text-align: right;\">0</td><td style = \"text-align: right;\">138.0</td><td style = \"text-align: right;\">71.0</td><td style = \"text-align: right;\">1</td></tr><tr><td class = \"rowNumber\" style = \"font-weight: bold; text-align: right;\">8</td><td style = \"text-align: right;\">0</td><td style = \"text-align: right;\">45</td><td style = \"text-align: right;\">1</td><td style = \"text-align: right;\">0</td><td style = \"text-align: right;\">0</td><td style = \"text-align: right;\">0</td><td style = \"text-align: right;\">100.0</td><td style = \"text-align: right;\">71.0</td><td style = \"text-align: right;\">0</td></tr><tr><td class = \"rowNumber\" style = \"font-weight: bold; text-align: right;\">9</td><td style = \"text-align: right;\">1</td><td style = \"text-align: right;\">52</td><td style = \"text-align: right;\">0</td><td style = \"text-align: right;\">0</td><td style = \"text-align: right;\">1</td><td style = \"text-align: right;\">0</td><td style = \"text-align: right;\">141.5</td><td style = \"text-align: right;\">89.0</td><td style = \"text-align: right;\">0</td></tr><tr><td class = \"rowNumber\" style = \"font-weight: bold; text-align: right;\">10</td><td style = \"text-align: right;\">1</td><td style = \"text-align: right;\">43</td><td style = \"text-align: right;\">1</td><td style = \"text-align: right;\">0</td><td style = \"text-align: right;\">1</td><td style = \"text-align: right;\">0</td><td style = \"text-align: right;\">162.0</td><td style = \"text-align: right;\">107.0</td><td style = \"text-align: right;\">0</td></tr><tr><td class = \"rowNumber\" style = \"font-weight: bold; text-align: right;\">11</td><td style = \"text-align: right;\">0</td><td style = \"text-align: right;\">50</td><td style = \"text-align: right;\">0</td><td style = \"text-align: right;\">0</td><td style = \"text-align: right;\">0</td><td style = \"text-align: right;\">0</td><td style = \"text-align: right;\">133.0</td><td style = \"text-align: right;\">76.0</td><td style = \"text-align: right;\">0</td></tr><tr><td class = \"rowNumber\" style = \"font-weight: bold; text-align: right;\">12</td><td style = \"text-align: right;\">0</td><td style = \"text-align: right;\">43</td><td style = \"text-align: right;\">0</td><td style = \"text-align: right;\">0</td><td style = \"text-align: right;\">0</td><td style = \"text-align: right;\">0</td><td style = \"text-align: right;\">131.0</td><td style = \"text-align: right;\">88.0</td><td style = \"text-align: right;\">0</td></tr><tr><td class = \"rowNumber\" style = \"font-weight: bold; text-align: right;\">13</td><td style = \"text-align: right;\">1</td><td style = \"text-align: right;\">46</td><td style = \"text-align: right;\">1</td><td style = \"text-align: right;\">0</td><td style = \"text-align: right;\">1</td><td style = \"text-align: right;\">0</td><td style = \"text-align: right;\">142.0</td><td style = \"text-align: right;\">94.0</td><td style = \"text-align: right;\">0</td></tr><tr><td style = \"text-align: right;\">&vellip;</td><td style = \"text-align: right;\">&vellip;</td><td style = \"text-align: right;\">&vellip;</td><td style = \"text-align: right;\">&vellip;</td><td style = \"text-align: right;\">&vellip;</td><td style = \"text-align: right;\">&vellip;</td><td style = \"text-align: right;\">&vellip;</td><td style = \"text-align: right;\">&vellip;</td><td style = \"text-align: right;\">&vellip;</td><td style = \"text-align: right;\">&vellip;</td></tr><tr><td class = \"rowNumber\" style = \"font-weight: bold; text-align: right;\">4227</td><td style = \"text-align: right;\">1</td><td style = \"text-align: right;\">58</td><td style = \"text-align: right;\">0</td><td style = \"text-align: right;\">0</td><td style = \"text-align: right;\">0</td><td style = \"text-align: right;\">0</td><td style = \"text-align: right;\">125.5</td><td style = \"text-align: right;\">84.0</td><td style = \"text-align: right;\">1</td></tr><tr><td class = \"rowNumber\" style = \"font-weight: bold; text-align: right;\">4228</td><td style = \"text-align: right;\">1</td><td style = \"text-align: right;\">43</td><td style = \"text-align: right;\">1</td><td style = \"text-align: right;\">0</td><td style = \"text-align: right;\">0</td><td style = \"text-align: right;\">0</td><td style = \"text-align: right;\">129.5</td><td style = \"text-align: right;\">88.0</td><td style = \"text-align: right;\">0</td></tr><tr><td class = \"rowNumber\" style = \"font-weight: bold; text-align: right;\">4229</td><td style = \"text-align: right;\">0</td><td style = \"text-align: right;\">50</td><td style = \"text-align: right;\">0</td><td style = \"text-align: right;\">0</td><td style = \"text-align: right;\">1</td><td style = \"text-align: right;\">1</td><td style = \"text-align: right;\">190.0</td><td style = \"text-align: right;\">130.0</td><td style = \"text-align: right;\">0</td></tr><tr><td class = \"rowNumber\" style = \"font-weight: bold; text-align: right;\">4230</td><td style = \"text-align: right;\">0</td><td style = \"text-align: right;\">51</td><td style = \"text-align: right;\">1</td><td style = \"text-align: right;\">0</td><td style = \"text-align: right;\">1</td><td style = \"text-align: right;\">0</td><td style = \"text-align: right;\">140.0</td><td style = \"text-align: right;\">80.0</td><td style = \"text-align: right;\">0</td></tr><tr><td class = \"rowNumber\" style = \"font-weight: bold; text-align: right;\">4231</td><td style = \"text-align: right;\">0</td><td style = \"text-align: right;\">56</td><td style = \"text-align: right;\">1</td><td style = \"text-align: right;\">0</td><td style = \"text-align: right;\">1</td><td style = \"text-align: right;\">0</td><td style = \"text-align: right;\">170.0</td><td style = \"text-align: right;\">102.0</td><td style = \"text-align: right;\">0</td></tr><tr><td class = \"rowNumber\" style = \"font-weight: bold; text-align: right;\">4232</td><td style = \"text-align: right;\">1</td><td style = \"text-align: right;\">58</td><td style = \"text-align: right;\">0</td><td style = \"text-align: right;\">0</td><td style = \"text-align: right;\">1</td><td style = \"text-align: right;\">0</td><td style = \"text-align: right;\">141.0</td><td style = \"text-align: right;\">81.0</td><td style = \"text-align: right;\">0</td></tr><tr><td class = \"rowNumber\" style = \"font-weight: bold; text-align: right;\">4233</td><td style = \"text-align: right;\">1</td><td style = \"text-align: right;\">68</td><td style = \"text-align: right;\">0</td><td style = \"text-align: right;\">0</td><td style = \"text-align: right;\">1</td><td style = \"text-align: right;\">0</td><td style = \"text-align: right;\">168.0</td><td style = \"text-align: right;\">97.0</td><td style = \"text-align: right;\">1</td></tr><tr><td class = \"rowNumber\" style = \"font-weight: bold; text-align: right;\">4234</td><td style = \"text-align: right;\">1</td><td style = \"text-align: right;\">50</td><td style = \"text-align: right;\">1</td><td style = \"text-align: right;\">0</td><td style = \"text-align: right;\">1</td><td style = \"text-align: right;\">0</td><td style = \"text-align: right;\">179.0</td><td style = \"text-align: right;\">92.0</td><td style = \"text-align: right;\">1</td></tr><tr><td class = \"rowNumber\" style = \"font-weight: bold; text-align: right;\">4235</td><td style = \"text-align: right;\">1</td><td style = \"text-align: right;\">51</td><td style = \"text-align: right;\">1</td><td style = \"text-align: right;\">0</td><td style = \"text-align: right;\">0</td><td style = \"text-align: right;\">0</td><td style = \"text-align: right;\">126.5</td><td style = \"text-align: right;\">80.0</td><td style = \"text-align: right;\">0</td></tr><tr><td class = \"rowNumber\" style = \"font-weight: bold; text-align: right;\">4236</td><td style = \"text-align: right;\">0</td><td style = \"text-align: right;\">48</td><td style = \"text-align: right;\">1</td><td style = \"text-align: right;\">0</td><td style = \"text-align: right;\">0</td><td style = \"text-align: right;\">0</td><td style = \"text-align: right;\">131.0</td><td style = \"text-align: right;\">72.0</td><td style = \"text-align: right;\">0</td></tr><tr><td class = \"rowNumber\" style = \"font-weight: bold; text-align: right;\">4237</td><td style = \"text-align: right;\">0</td><td style = \"text-align: right;\">44</td><td style = \"text-align: right;\">1</td><td style = \"text-align: right;\">0</td><td style = \"text-align: right;\">0</td><td style = \"text-align: right;\">0</td><td style = \"text-align: right;\">126.5</td><td style = \"text-align: right;\">87.0</td><td style = \"text-align: right;\">0</td></tr><tr><td class = \"rowNumber\" style = \"font-weight: bold; text-align: right;\">4238</td><td style = \"text-align: right;\">0</td><td style = \"text-align: right;\">52</td><td style = \"text-align: right;\">0</td><td style = \"text-align: right;\">0</td><td style = \"text-align: right;\">0</td><td style = \"text-align: right;\">0</td><td style = \"text-align: right;\">133.5</td><td style = \"text-align: right;\">83.0</td><td style = \"text-align: right;\">0</td></tr></tbody></table></div>"
      ],
      "text/latex": [
       "\\begin{tabular}{r|ccccccccc}\n",
       "\t& male & age & currentSmoker & prevalentStroke & prevalentHyp & diabetes & sysBP & diaBP & \\\\\n",
       "\t\\hline\n",
       "\t& Int64 & Int64 & Int64 & Int64 & Int64 & Int64 & Float64 & Float64 & \\\\\n",
       "\t\\hline\n",
       "\t1 & 1 & 39 & 0 & 0 & 0 & 0 & 106.0 & 70.0 & $\\dots$ \\\\\n",
       "\t2 & 0 & 46 & 0 & 0 & 0 & 0 & 121.0 & 81.0 & $\\dots$ \\\\\n",
       "\t3 & 1 & 48 & 1 & 0 & 0 & 0 & 127.5 & 80.0 & $\\dots$ \\\\\n",
       "\t4 & 0 & 61 & 1 & 0 & 1 & 0 & 150.0 & 95.0 & $\\dots$ \\\\\n",
       "\t5 & 0 & 46 & 1 & 0 & 0 & 0 & 130.0 & 84.0 & $\\dots$ \\\\\n",
       "\t6 & 0 & 43 & 0 & 0 & 1 & 0 & 180.0 & 110.0 & $\\dots$ \\\\\n",
       "\t7 & 0 & 63 & 0 & 0 & 0 & 0 & 138.0 & 71.0 & $\\dots$ \\\\\n",
       "\t8 & 0 & 45 & 1 & 0 & 0 & 0 & 100.0 & 71.0 & $\\dots$ \\\\\n",
       "\t9 & 1 & 52 & 0 & 0 & 1 & 0 & 141.5 & 89.0 & $\\dots$ \\\\\n",
       "\t10 & 1 & 43 & 1 & 0 & 1 & 0 & 162.0 & 107.0 & $\\dots$ \\\\\n",
       "\t11 & 0 & 50 & 0 & 0 & 0 & 0 & 133.0 & 76.0 & $\\dots$ \\\\\n",
       "\t12 & 0 & 43 & 0 & 0 & 0 & 0 & 131.0 & 88.0 & $\\dots$ \\\\\n",
       "\t13 & 1 & 46 & 1 & 0 & 1 & 0 & 142.0 & 94.0 & $\\dots$ \\\\\n",
       "\t14 & 0 & 41 & 0 & 0 & 1 & 0 & 124.0 & 88.0 & $\\dots$ \\\\\n",
       "\t15 & 0 & 39 & 1 & 0 & 0 & 0 & 114.0 & 64.0 & $\\dots$ \\\\\n",
       "\t16 & 0 & 38 & 1 & 0 & 1 & 0 & 140.0 & 90.0 & $\\dots$ \\\\\n",
       "\t17 & 1 & 48 & 1 & 0 & 1 & 0 & 138.0 & 90.0 & $\\dots$ \\\\\n",
       "\t18 & 0 & 46 & 1 & 0 & 0 & 0 & 112.0 & 78.0 & $\\dots$ \\\\\n",
       "\t19 & 0 & 38 & 1 & 0 & 0 & 0 & 122.0 & 84.5 & $\\dots$ \\\\\n",
       "\t20 & 1 & 41 & 0 & 0 & 0 & 0 & 139.0 & 88.0 & $\\dots$ \\\\\n",
       "\t21 & 0 & 42 & 1 & 0 & 0 & 0 & 108.0 & 70.5 & $\\dots$ \\\\\n",
       "\t22 & 0 & 43 & 0 & 0 & 0 & 0 & 123.5 & 77.5 & $\\dots$ \\\\\n",
       "\t23 & 0 & 52 & 0 & 0 & 0 & 0 & 148.0 & 78.0 & $\\dots$ \\\\\n",
       "\t24 & 0 & 52 & 1 & 0 & 0 & 0 & 132.0 & 82.0 & $\\dots$ \\\\\n",
       "\t25 & 1 & 44 & 1 & 0 & 1 & 0 & 137.5 & 90.0 & $\\dots$ \\\\\n",
       "\t26 & 1 & 47 & 1 & 0 & 0 & 0 & 102.0 & 68.0 & $\\dots$ \\\\\n",
       "\t27 & 0 & 60 & 0 & 0 & 0 & 0 & 110.0 & 72.5 & $\\dots$ \\\\\n",
       "\t28 & 1 & 35 & 1 & 0 & 1 & 0 & 132.0 & 91.0 & $\\dots$ \\\\\n",
       "\t29 & 0 & 61 & 0 & 0 & 1 & 0 & 182.0 & 121.0 & $\\dots$ \\\\\n",
       "\t30 & 0 & 60 & 0 & 0 & 0 & 0 & 130.0 & 88.0 & $\\dots$ \\\\\n",
       "\t$\\dots$ & $\\dots$ & $\\dots$ & $\\dots$ & $\\dots$ & $\\dots$ & $\\dots$ & $\\dots$ & $\\dots$ &  \\\\\n",
       "\\end{tabular}\n"
      ],
      "text/plain": [
       "\u001b[1m4238×9 DataFrame\u001b[0m\n",
       "\u001b[1m  Row \u001b[0m│\u001b[1m male  \u001b[0m\u001b[1m age   \u001b[0m\u001b[1m currentSmoker \u001b[0m\u001b[1m prevalentStroke \u001b[0m\u001b[1m prevalentHyp \u001b[0m\u001b[1m diabetes \u001b[0m\u001b[1m \u001b[0m ⋯\n",
       "      │\u001b[90m Int64 \u001b[0m\u001b[90m Int64 \u001b[0m\u001b[90m Int64         \u001b[0m\u001b[90m Int64           \u001b[0m\u001b[90m Int64        \u001b[0m\u001b[90m Int64    \u001b[0m\u001b[90m \u001b[0m ⋯\n",
       "──────┼─────────────────────────────────────────────────────────────────────────\n",
       "    1 │     1     39              0                0             0         0   ⋯\n",
       "    2 │     0     46              0                0             0         0\n",
       "    3 │     1     48              1                0             0         0\n",
       "    4 │     0     61              1                0             1         0\n",
       "    5 │     0     46              1                0             0         0   ⋯\n",
       "    6 │     0     43              0                0             1         0\n",
       "    7 │     0     63              0                0             0         0\n",
       "    8 │     0     45              1                0             0         0\n",
       "    9 │     1     52              0                0             1         0   ⋯\n",
       "   10 │     1     43              1                0             1         0\n",
       "   11 │     0     50              0                0             0         0\n",
       "  ⋮   │   ⋮      ⋮          ⋮               ⋮              ⋮           ⋮       ⋱\n",
       " 4229 │     0     50              0                0             1         1\n",
       " 4230 │     0     51              1                0             1         0   ⋯\n",
       " 4231 │     0     56              1                0             1         0\n",
       " 4232 │     1     58              0                0             1         0\n",
       " 4233 │     1     68              0                0             1         0\n",
       " 4234 │     1     50              1                0             1         0   ⋯\n",
       " 4235 │     1     51              1                0             0         0\n",
       " 4236 │     0     48              1                0             0         0\n",
       " 4237 │     0     44              1                0             0         0\n",
       " 4238 │     0     52              0                0             0         0   ⋯\n",
       "\u001b[36m                                                 3 columns and 4217 rows omitted\u001b[0m"
      ]
     },
     "execution_count": 6,
     "metadata": {},
     "output_type": "execute_result"
    }
   ],
   "source": [
    "select!(data_cleaned, Not([\"education\", \"cigsPerDay\",\"BPMeds\", \"totChol\", \"BMI\", \"heartRate\",\"glucose\"]))"
   ]
  },
  {
   "cell_type": "code",
   "execution_count": 7,
   "id": "c760a8b7-13b4-4215-9c4f-aab8adf50031",
   "metadata": {},
   "outputs": [
    {
     "name": "stdout",
     "output_type": "stream",
     "text": [
      "Data Types of All Columns:\n",
      "male: Int64\n",
      "age: Int64\n",
      "currentSmoker: Int64\n",
      "prevalentStroke: Int64\n",
      "prevalentHyp: Int64\n",
      "diabetes: Int64\n",
      "sysBP: Float64\n",
      "diaBP: Float64\n",
      "TenYearCHD: Int64\n"
     ]
    }
   ],
   "source": [
    "println(\"Data Types of All Columns:\")\n",
    "for col in names(data_cleaned)\n",
    "    println(\"$col: $(eltype(data_cleaned[:, col]))\")\n",
    "end"
   ]
  },
  {
   "cell_type": "code",
   "execution_count": 8,
   "id": "13e153b4-db48-4ac2-a773-b9b6ad69fff9",
   "metadata": {},
   "outputs": [
    {
     "data": {
      "text/plain": [
       "4238-element Vector{Int64}:\n",
       " 0\n",
       " 0\n",
       " 0\n",
       " 1\n",
       " 0\n",
       " 0\n",
       " 1\n",
       " 0\n",
       " 0\n",
       " 0\n",
       " 0\n",
       " 0\n",
       " 0\n",
       " ⋮\n",
       " 1\n",
       " 0\n",
       " 0\n",
       " 0\n",
       " 0\n",
       " 0\n",
       " 1\n",
       " 1\n",
       " 0\n",
       " 0\n",
       " 0\n",
       " 0"
      ]
     },
     "execution_count": 8,
     "metadata": {},
     "output_type": "execute_result"
    }
   ],
   "source": [
    "features = Array(data_cleaned[!, Not(:TenYearCHD)])\n",
    "\n",
    "target = Array(data_cleaned[!, :TenYearCHD])"
   ]
  },
  {
   "cell_type": "code",
   "execution_count": 9,
   "id": "29542738-27ab-4be7-b577-9e2fcd5d45dd",
   "metadata": {},
   "outputs": [
    {
     "data": {
      "text/html": [
       "<style>#sk-container-id-3 {\n",
       "  /* Definition of color scheme common for light and dark mode */\n",
       "  --sklearn-color-text: #000;\n",
       "  --sklearn-color-text-muted: #666;\n",
       "  --sklearn-color-line: gray;\n",
       "  /* Definition of color scheme for unfitted estimators */\n",
       "  --sklearn-color-unfitted-level-0: #fff5e6;\n",
       "  --sklearn-color-unfitted-level-1: #f6e4d2;\n",
       "  --sklearn-color-unfitted-level-2: #ffe0b3;\n",
       "  --sklearn-color-unfitted-level-3: chocolate;\n",
       "  /* Definition of color scheme for fitted estimators */\n",
       "  --sklearn-color-fitted-level-0: #f0f8ff;\n",
       "  --sklearn-color-fitted-level-1: #d4ebff;\n",
       "  --sklearn-color-fitted-level-2: #b3dbfd;\n",
       "  --sklearn-color-fitted-level-3: cornflowerblue;\n",
       "\n",
       "  /* Specific color for light theme */\n",
       "  --sklearn-color-text-on-default-background: var(--sg-text-color, var(--theme-code-foreground, var(--jp-content-font-color1, black)));\n",
       "  --sklearn-color-background: var(--sg-background-color, var(--theme-background, var(--jp-layout-color0, white)));\n",
       "  --sklearn-color-border-box: var(--sg-text-color, var(--theme-code-foreground, var(--jp-content-font-color1, black)));\n",
       "  --sklearn-color-icon: #696969;\n",
       "\n",
       "  @media (prefers-color-scheme: dark) {\n",
       "    /* Redefinition of color scheme for dark theme */\n",
       "    --sklearn-color-text-on-default-background: var(--sg-text-color, var(--theme-code-foreground, var(--jp-content-font-color1, white)));\n",
       "    --sklearn-color-background: var(--sg-background-color, var(--theme-background, var(--jp-layout-color0, #111)));\n",
       "    --sklearn-color-border-box: var(--sg-text-color, var(--theme-code-foreground, var(--jp-content-font-color1, white)));\n",
       "    --sklearn-color-icon: #878787;\n",
       "  }\n",
       "}\n",
       "\n",
       "#sk-container-id-3 {\n",
       "  color: var(--sklearn-color-text);\n",
       "}\n",
       "\n",
       "#sk-container-id-3 pre {\n",
       "  padding: 0;\n",
       "}\n",
       "\n",
       "#sk-container-id-3 input.sk-hidden--visually {\n",
       "  border: 0;\n",
       "  clip: rect(1px 1px 1px 1px);\n",
       "  clip: rect(1px, 1px, 1px, 1px);\n",
       "  height: 1px;\n",
       "  margin: -1px;\n",
       "  overflow: hidden;\n",
       "  padding: 0;\n",
       "  position: absolute;\n",
       "  width: 1px;\n",
       "}\n",
       "\n",
       "#sk-container-id-3 div.sk-dashed-wrapped {\n",
       "  border: 1px dashed var(--sklearn-color-line);\n",
       "  margin: 0 0.4em 0.5em 0.4em;\n",
       "  box-sizing: border-box;\n",
       "  padding-bottom: 0.4em;\n",
       "  background-color: var(--sklearn-color-background);\n",
       "}\n",
       "\n",
       "#sk-container-id-3 div.sk-container {\n",
       "  /* jupyter's `normalize.less` sets `[hidden] { display: none; }`\n",
       "     but bootstrap.min.css set `[hidden] { display: none !important; }`\n",
       "     so we also need the `!important` here to be able to override the\n",
       "     default hidden behavior on the sphinx rendered scikit-learn.org.\n",
       "     See: https://github.com/scikit-learn/scikit-learn/issues/21755 */\n",
       "  display: inline-block !important;\n",
       "  position: relative;\n",
       "}\n",
       "\n",
       "#sk-container-id-3 div.sk-text-repr-fallback {\n",
       "  display: none;\n",
       "}\n",
       "\n",
       "div.sk-parallel-item,\n",
       "div.sk-serial,\n",
       "div.sk-item {\n",
       "  /* draw centered vertical line to link estimators */\n",
       "  background-image: linear-gradient(var(--sklearn-color-text-on-default-background), var(--sklearn-color-text-on-default-background));\n",
       "  background-size: 2px 100%;\n",
       "  background-repeat: no-repeat;\n",
       "  background-position: center center;\n",
       "}\n",
       "\n",
       "/* Parallel-specific style estimator block */\n",
       "\n",
       "#sk-container-id-3 div.sk-parallel-item::after {\n",
       "  content: \"\";\n",
       "  width: 100%;\n",
       "  border-bottom: 2px solid var(--sklearn-color-text-on-default-background);\n",
       "  flex-grow: 1;\n",
       "}\n",
       "\n",
       "#sk-container-id-3 div.sk-parallel {\n",
       "  display: flex;\n",
       "  align-items: stretch;\n",
       "  justify-content: center;\n",
       "  background-color: var(--sklearn-color-background);\n",
       "  position: relative;\n",
       "}\n",
       "\n",
       "#sk-container-id-3 div.sk-parallel-item {\n",
       "  display: flex;\n",
       "  flex-direction: column;\n",
       "}\n",
       "\n",
       "#sk-container-id-3 div.sk-parallel-item:first-child::after {\n",
       "  align-self: flex-end;\n",
       "  width: 50%;\n",
       "}\n",
       "\n",
       "#sk-container-id-3 div.sk-parallel-item:last-child::after {\n",
       "  align-self: flex-start;\n",
       "  width: 50%;\n",
       "}\n",
       "\n",
       "#sk-container-id-3 div.sk-parallel-item:only-child::after {\n",
       "  width: 0;\n",
       "}\n",
       "\n",
       "/* Serial-specific style estimator block */\n",
       "\n",
       "#sk-container-id-3 div.sk-serial {\n",
       "  display: flex;\n",
       "  flex-direction: column;\n",
       "  align-items: center;\n",
       "  background-color: var(--sklearn-color-background);\n",
       "  padding-right: 1em;\n",
       "  padding-left: 1em;\n",
       "}\n",
       "\n",
       "\n",
       "/* Toggleable style: style used for estimator/Pipeline/ColumnTransformer box that is\n",
       "clickable and can be expanded/collapsed.\n",
       "- Pipeline and ColumnTransformer use this feature and define the default style\n",
       "- Estimators will overwrite some part of the style using the `sk-estimator` class\n",
       "*/\n",
       "\n",
       "/* Pipeline and ColumnTransformer style (default) */\n",
       "\n",
       "#sk-container-id-3 div.sk-toggleable {\n",
       "  /* Default theme specific background. It is overwritten whether we have a\n",
       "  specific estimator or a Pipeline/ColumnTransformer */\n",
       "  background-color: var(--sklearn-color-background);\n",
       "}\n",
       "\n",
       "/* Toggleable label */\n",
       "#sk-container-id-3 label.sk-toggleable__label {\n",
       "  cursor: pointer;\n",
       "  display: flex;\n",
       "  width: 100%;\n",
       "  margin-bottom: 0;\n",
       "  padding: 0.5em;\n",
       "  box-sizing: border-box;\n",
       "  text-align: center;\n",
       "  align-items: start;\n",
       "  justify-content: space-between;\n",
       "  gap: 0.5em;\n",
       "}\n",
       "\n",
       "#sk-container-id-3 label.sk-toggleable__label .caption {\n",
       "  font-size: 0.6rem;\n",
       "  font-weight: lighter;\n",
       "  color: var(--sklearn-color-text-muted);\n",
       "}\n",
       "\n",
       "#sk-container-id-3 label.sk-toggleable__label-arrow:before {\n",
       "  /* Arrow on the left of the label */\n",
       "  content: \"▸\";\n",
       "  float: left;\n",
       "  margin-right: 0.25em;\n",
       "  color: var(--sklearn-color-icon);\n",
       "}\n",
       "\n",
       "#sk-container-id-3 label.sk-toggleable__label-arrow:hover:before {\n",
       "  color: var(--sklearn-color-text);\n",
       "}\n",
       "\n",
       "/* Toggleable content - dropdown */\n",
       "\n",
       "#sk-container-id-3 div.sk-toggleable__content {\n",
       "  max-height: 0;\n",
       "  max-width: 0;\n",
       "  overflow: hidden;\n",
       "  text-align: left;\n",
       "  /* unfitted */\n",
       "  background-color: var(--sklearn-color-unfitted-level-0);\n",
       "}\n",
       "\n",
       "#sk-container-id-3 div.sk-toggleable__content.fitted {\n",
       "  /* fitted */\n",
       "  background-color: var(--sklearn-color-fitted-level-0);\n",
       "}\n",
       "\n",
       "#sk-container-id-3 div.sk-toggleable__content pre {\n",
       "  margin: 0.2em;\n",
       "  border-radius: 0.25em;\n",
       "  color: var(--sklearn-color-text);\n",
       "  /* unfitted */\n",
       "  background-color: var(--sklearn-color-unfitted-level-0);\n",
       "}\n",
       "\n",
       "#sk-container-id-3 div.sk-toggleable__content.fitted pre {\n",
       "  /* unfitted */\n",
       "  background-color: var(--sklearn-color-fitted-level-0);\n",
       "}\n",
       "\n",
       "#sk-container-id-3 input.sk-toggleable__control:checked~div.sk-toggleable__content {\n",
       "  /* Expand drop-down */\n",
       "  max-height: 200px;\n",
       "  max-width: 100%;\n",
       "  overflow: auto;\n",
       "}\n",
       "\n",
       "#sk-container-id-3 input.sk-toggleable__control:checked~label.sk-toggleable__label-arrow:before {\n",
       "  content: \"▾\";\n",
       "}\n",
       "\n",
       "/* Pipeline/ColumnTransformer-specific style */\n",
       "\n",
       "#sk-container-id-3 div.sk-label input.sk-toggleable__control:checked~label.sk-toggleable__label {\n",
       "  color: var(--sklearn-color-text);\n",
       "  background-color: var(--sklearn-color-unfitted-level-2);\n",
       "}\n",
       "\n",
       "#sk-container-id-3 div.sk-label.fitted input.sk-toggleable__control:checked~label.sk-toggleable__label {\n",
       "  background-color: var(--sklearn-color-fitted-level-2);\n",
       "}\n",
       "\n",
       "/* Estimator-specific style */\n",
       "\n",
       "/* Colorize estimator box */\n",
       "#sk-container-id-3 div.sk-estimator input.sk-toggleable__control:checked~label.sk-toggleable__label {\n",
       "  /* unfitted */\n",
       "  background-color: var(--sklearn-color-unfitted-level-2);\n",
       "}\n",
       "\n",
       "#sk-container-id-3 div.sk-estimator.fitted input.sk-toggleable__control:checked~label.sk-toggleable__label {\n",
       "  /* fitted */\n",
       "  background-color: var(--sklearn-color-fitted-level-2);\n",
       "}\n",
       "\n",
       "#sk-container-id-3 div.sk-label label.sk-toggleable__label,\n",
       "#sk-container-id-3 div.sk-label label {\n",
       "  /* The background is the default theme color */\n",
       "  color: var(--sklearn-color-text-on-default-background);\n",
       "}\n",
       "\n",
       "/* On hover, darken the color of the background */\n",
       "#sk-container-id-3 div.sk-label:hover label.sk-toggleable__label {\n",
       "  color: var(--sklearn-color-text);\n",
       "  background-color: var(--sklearn-color-unfitted-level-2);\n",
       "}\n",
       "\n",
       "/* Label box, darken color on hover, fitted */\n",
       "#sk-container-id-3 div.sk-label.fitted:hover label.sk-toggleable__label.fitted {\n",
       "  color: var(--sklearn-color-text);\n",
       "  background-color: var(--sklearn-color-fitted-level-2);\n",
       "}\n",
       "\n",
       "/* Estimator label */\n",
       "\n",
       "#sk-container-id-3 div.sk-label label {\n",
       "  font-family: monospace;\n",
       "  font-weight: bold;\n",
       "  display: inline-block;\n",
       "  line-height: 1.2em;\n",
       "}\n",
       "\n",
       "#sk-container-id-3 div.sk-label-container {\n",
       "  text-align: center;\n",
       "}\n",
       "\n",
       "/* Estimator-specific */\n",
       "#sk-container-id-3 div.sk-estimator {\n",
       "  font-family: monospace;\n",
       "  border: 1px dotted var(--sklearn-color-border-box);\n",
       "  border-radius: 0.25em;\n",
       "  box-sizing: border-box;\n",
       "  margin-bottom: 0.5em;\n",
       "  /* unfitted */\n",
       "  background-color: var(--sklearn-color-unfitted-level-0);\n",
       "}\n",
       "\n",
       "#sk-container-id-3 div.sk-estimator.fitted {\n",
       "  /* fitted */\n",
       "  background-color: var(--sklearn-color-fitted-level-0);\n",
       "}\n",
       "\n",
       "/* on hover */\n",
       "#sk-container-id-3 div.sk-estimator:hover {\n",
       "  /* unfitted */\n",
       "  background-color: var(--sklearn-color-unfitted-level-2);\n",
       "}\n",
       "\n",
       "#sk-container-id-3 div.sk-estimator.fitted:hover {\n",
       "  /* fitted */\n",
       "  background-color: var(--sklearn-color-fitted-level-2);\n",
       "}\n",
       "\n",
       "/* Specification for estimator info (e.g. \"i\" and \"?\") */\n",
       "\n",
       "/* Common style for \"i\" and \"?\" */\n",
       "\n",
       ".sk-estimator-doc-link,\n",
       "a:link.sk-estimator-doc-link,\n",
       "a:visited.sk-estimator-doc-link {\n",
       "  float: right;\n",
       "  font-size: smaller;\n",
       "  line-height: 1em;\n",
       "  font-family: monospace;\n",
       "  background-color: var(--sklearn-color-background);\n",
       "  border-radius: 1em;\n",
       "  height: 1em;\n",
       "  width: 1em;\n",
       "  text-decoration: none !important;\n",
       "  margin-left: 0.5em;\n",
       "  text-align: center;\n",
       "  /* unfitted */\n",
       "  border: var(--sklearn-color-unfitted-level-1) 1pt solid;\n",
       "  color: var(--sklearn-color-unfitted-level-1);\n",
       "}\n",
       "\n",
       ".sk-estimator-doc-link.fitted,\n",
       "a:link.sk-estimator-doc-link.fitted,\n",
       "a:visited.sk-estimator-doc-link.fitted {\n",
       "  /* fitted */\n",
       "  border: var(--sklearn-color-fitted-level-1) 1pt solid;\n",
       "  color: var(--sklearn-color-fitted-level-1);\n",
       "}\n",
       "\n",
       "/* On hover */\n",
       "div.sk-estimator:hover .sk-estimator-doc-link:hover,\n",
       ".sk-estimator-doc-link:hover,\n",
       "div.sk-label-container:hover .sk-estimator-doc-link:hover,\n",
       ".sk-estimator-doc-link:hover {\n",
       "  /* unfitted */\n",
       "  background-color: var(--sklearn-color-unfitted-level-3);\n",
       "  color: var(--sklearn-color-background);\n",
       "  text-decoration: none;\n",
       "}\n",
       "\n",
       "div.sk-estimator.fitted:hover .sk-estimator-doc-link.fitted:hover,\n",
       ".sk-estimator-doc-link.fitted:hover,\n",
       "div.sk-label-container:hover .sk-estimator-doc-link.fitted:hover,\n",
       ".sk-estimator-doc-link.fitted:hover {\n",
       "  /* fitted */\n",
       "  background-color: var(--sklearn-color-fitted-level-3);\n",
       "  color: var(--sklearn-color-background);\n",
       "  text-decoration: none;\n",
       "}\n",
       "\n",
       "/* Span, style for the box shown on hovering the info icon */\n",
       ".sk-estimator-doc-link span {\n",
       "  display: none;\n",
       "  z-index: 9999;\n",
       "  position: relative;\n",
       "  font-weight: normal;\n",
       "  right: .2ex;\n",
       "  padding: .5ex;\n",
       "  margin: .5ex;\n",
       "  width: min-content;\n",
       "  min-width: 20ex;\n",
       "  max-width: 50ex;\n",
       "  color: var(--sklearn-color-text);\n",
       "  box-shadow: 2pt 2pt 4pt #999;\n",
       "  /* unfitted */\n",
       "  background: var(--sklearn-color-unfitted-level-0);\n",
       "  border: .5pt solid var(--sklearn-color-unfitted-level-3);\n",
       "}\n",
       "\n",
       ".sk-estimator-doc-link.fitted span {\n",
       "  /* fitted */\n",
       "  background: var(--sklearn-color-fitted-level-0);\n",
       "  border: var(--sklearn-color-fitted-level-3);\n",
       "}\n",
       "\n",
       ".sk-estimator-doc-link:hover span {\n",
       "  display: block;\n",
       "}\n",
       "\n",
       "/* \"?\"-specific style due to the `<a>` HTML tag */\n",
       "\n",
       "#sk-container-id-3 a.estimator_doc_link {\n",
       "  float: right;\n",
       "  font-size: 1rem;\n",
       "  line-height: 1em;\n",
       "  font-family: monospace;\n",
       "  background-color: var(--sklearn-color-background);\n",
       "  border-radius: 1rem;\n",
       "  height: 1rem;\n",
       "  width: 1rem;\n",
       "  text-decoration: none;\n",
       "  /* unfitted */\n",
       "  color: var(--sklearn-color-unfitted-level-1);\n",
       "  border: var(--sklearn-color-unfitted-level-1) 1pt solid;\n",
       "}\n",
       "\n",
       "#sk-container-id-3 a.estimator_doc_link.fitted {\n",
       "  /* fitted */\n",
       "  border: var(--sklearn-color-fitted-level-1) 1pt solid;\n",
       "  color: var(--sklearn-color-fitted-level-1);\n",
       "}\n",
       "\n",
       "/* On hover */\n",
       "#sk-container-id-3 a.estimator_doc_link:hover {\n",
       "  /* unfitted */\n",
       "  background-color: var(--sklearn-color-unfitted-level-3);\n",
       "  color: var(--sklearn-color-background);\n",
       "  text-decoration: none;\n",
       "}\n",
       "\n",
       "#sk-container-id-3 a.estimator_doc_link.fitted:hover {\n",
       "  /* fitted */\n",
       "  background-color: var(--sklearn-color-fitted-level-3);\n",
       "}\n",
       "</style><div id=\"sk-container-id-3\" class=\"sk-top-container\"><div class=\"sk-text-repr-fallback\"><pre>LogisticRegression()</pre><b>In a Jupyter environment, please rerun this cell to show the HTML representation or trust the notebook. <br />On GitHub, the HTML representation is unable to render, please try loading this page with nbviewer.org.</b></div><div class=\"sk-container\" hidden><div class=\"sk-item\"><div class=\"sk-estimator  sk-toggleable\"><input class=\"sk-toggleable__control sk-hidden--visually\" id=\"sk-estimator-id-3\" type=\"checkbox\" checked><label for=\"sk-estimator-id-3\" class=\"sk-toggleable__label  sk-toggleable__label-arrow\"><div><div>LogisticRegression</div></div><div><a class=\"sk-estimator-doc-link \" rel=\"noreferrer\" target=\"_blank\" href=\"https://scikit-learn.org/1.6/modules/generated/sklearn.linear_model.LogisticRegression.html\">?<span>Documentation for LogisticRegression</span></a><span class=\"sk-estimator-doc-link \">i<span>Not fitted</span></span></div></label><div class=\"sk-toggleable__content \"><pre>LogisticRegression()</pre></div> </div></div></div></div>"
      ],
      "text/plain": [
       "PyObject LogisticRegression()"
      ]
     },
     "execution_count": 9,
     "metadata": {},
     "output_type": "execute_result"
    }
   ],
   "source": [
    "@sk_import linear_model: LogisticRegression\n",
    "simplelogistic = LogisticRegression()"
   ]
  },
  {
   "cell_type": "code",
   "execution_count": 10,
   "id": "c7d24aff-f4af-4751-9339-3a61dd520a69",
   "metadata": {},
   "outputs": [
    {
     "name": "stderr",
     "output_type": "stream",
     "text": [
      "/Applications/anaconda3/lib/python3.12/site-packages/sklearn/linear_model/_logistic.py:465: ConvergenceWarning: lbfgs failed to converge (status=1):\n",
      "STOP: TOTAL NO. OF ITERATIONS REACHED LIMIT.\n",
      "\n",
      "Increase the number of iterations (max_iter) or scale the data as shown in:\n",
      "    https://scikit-learn.org/stable/modules/preprocessing.html\n",
      "Please also refer to the documentation for alternative solver options:\n",
      "    https://scikit-learn.org/stable/modules/linear_model.html#logistic-regression\n",
      "  n_iter_i = _check_optimize_result(\n"
     ]
    },
    {
     "data": {
      "text/plain": [
       "1×8 Matrix{Float64}:\n",
       " 0.645317  0.045193  0.317785  0.829485  …  1.66541  0.0149393  -0.0146298"
      ]
     },
     "execution_count": 10,
     "metadata": {},
     "output_type": "execute_result"
    }
   ],
   "source": [
    "# Training the model \n",
    "fit!(simplelogistic, features, target)\n",
    "\n",
    "# Viewing the learned parameters \n",
    "simplelogistic.coef_"
   ]
  },
  {
   "cell_type": "code",
   "execution_count": 11,
   "id": "54b80daf-04cf-4010-9cea-b295f89ae4c7",
   "metadata": {},
   "outputs": [],
   "source": [
    "logistic_target_predict = predict(simplelogistic,features);"
   ]
  },
  {
   "cell_type": "code",
   "execution_count": 12,
   "id": "b98c9063-3693-4625-ba4c-323039f28c3e",
   "metadata": {},
   "outputs": [
    {
     "name": "stdout",
     "output_type": "stream",
     "text": [
      "0.8468617272298253"
     ]
    }
   ],
   "source": [
    "@sk_import metrics: accuracy_score\n",
    "print(accuracy_score(target,logistic_target_predict))"
   ]
  },
  {
   "cell_type": "code",
   "execution_count": 13,
   "id": "b06e55ef-cd55-4df9-9912-3aa8ddad13e3",
   "metadata": {},
   "outputs": [
    {
     "data": {
      "image/png": "[encoded data removed]",
      "text/plain": [
       "Figure(PyObject <Figure size 640x480 with 2 Axes>)"
      ]
     },
     "metadata": {},
     "output_type": "display_data"
    },
    {
     "data": {
      "image/png": "[encoded data removed]",
      "text/plain": [
       "Figure(PyObject <Figure size 640x480 with 2 Axes>)"
      ]
     },
     "execution_count": 13,
     "metadata": {},
     "output_type": "execute_result"
    }
   ],
   "source": [
    "# Generating the confusion matrix \n",
    "@sk_import metrics: confusion_matrix\n",
    "cf = confusion_matrix(target, logistic_target_predict)\n",
    "\n",
    "# Loading the plotting library & confusion matrix plotting function\n",
    "using PyPlot\n",
    "@sk_import metrics: ConfusionMatrixDisplay\n",
    "\n",
    "figure() # Open a new canvas to plot\n",
    "\n",
    "# Generating the plot \n",
    "disp = ConfusionMatrixDisplay(confusion_matrix=cf,\n",
    "            display_labels=simplelogistic.classes_)\n",
    "disp.plot() # Transferring the plot to the canvas\n",
    "gcf() # Freezing the canvas and printing it."
   ]
  },
  {
   "cell_type": "code",
   "execution_count": 14,
   "id": "54cacd88-2449-46dc-bd83-fa0dd62f1af5",
   "metadata": {},
   "outputs": [
    {
     "data": {
      "text/plain": [
       "0.062111801242236024"
      ]
     },
     "execution_count": 14,
     "metadata": {},
     "output_type": "execute_result"
    }
   ],
   "source": [
    "true_neg, false_neg, false_pos, true_pos = cf\n",
    "recall = true_pos / (true_pos + false_neg)"
   ]
  },
  {
   "cell_type": "code",
   "execution_count": 15,
   "id": "74a81c8e-78c3-4ac1-8be7-c3c8698bdd22",
   "metadata": {},
   "outputs": [
    {
     "data": {
      "text/plain": [
       "0.47058823529411764"
      ]
     },
     "execution_count": 15,
     "metadata": {},
     "output_type": "execute_result"
    }
   ],
   "source": [
    "precision = true_pos / (true_pos + false_pos)"
   ]
  },
  {
   "cell_type": "code",
   "execution_count": 16,
   "id": "cccda5d6-e377-49bb-b8cc-19bbfd261cdf",
   "metadata": {},
   "outputs": [
    {
     "data": {
      "text/plain": [
       "0.10973936899862825"
      ]
     },
     "execution_count": 16,
     "metadata": {},
     "output_type": "execute_result"
    }
   ],
   "source": [
    "f1 = (2 * precision * recall) / (precision + recall)"
   ]
  },
  {
   "cell_type": "code",
   "execution_count": 17,
   "id": "689ff881-8762-44ec-9d47-68e89099a9a5",
   "metadata": {},
   "outputs": [
    {
     "name": "stdout",
     "output_type": "stream",
     "text": [
      "              precision    recall  f1-score   support\n",
      "\n",
      "           0       0.85      0.99      0.92      3594\n",
      "           1       0.47      0.06      0.11       644\n",
      "\n",
      "    accuracy                           0.85      4238\n",
      "   macro avg       0.66      0.52      0.51      4238\n",
      "weighted avg       0.80      0.85      0.79      4238\n"
     ]
    }
   ],
   "source": [
    "@sk_import metrics: classification_report\n",
    "print(classification_report(target, logistic_target_predict))"
   ]
  },
  {
   "cell_type": "code",
   "execution_count": 18,
   "id": "b96a7200-bb11-45d9-b794-828ab965ceae",
   "metadata": {},
   "outputs": [
    {
     "name": "stderr",
     "output_type": "stream",
     "text": [
      "\u001b[33m\u001b[1m┌ \u001b[22m\u001b[39m\u001b[33m\u001b[1mWarning: \u001b[22m\u001b[39mModule model_selection has been ported to Julia - try `import ScikitLearn: CrossValidation` instead\n",
      "\u001b[33m\u001b[1m└ \u001b[22m\u001b[39m\u001b[90m@ ScikitLearn.Skcore ~/.julia/packages/ScikitLearn/sqLdT/src/Skcore.jl:259\u001b[39m\n"
     ]
    }
   ],
   "source": [
    "@sk_import model_selection: train_test_split;\n",
    "features_train, features_test, \n",
    "    target_train, target_test = train_test_split(features, \n",
    "        target, test_size=0.3, random_state=42);"
   ]
  },
  {
   "cell_type": "code",
   "execution_count": 19,
   "id": "48ce08d2-c3ea-495a-b6a6-c9a20eef5ed5",
   "metadata": {},
   "outputs": [
    {
     "name": "stderr",
     "output_type": "stream",
     "text": [
      "WARNING: import of CrossValidation.train_test_split into Main conflicts with an existing identifier; ignored.\n"
     ]
    },
    {
     "data": {
      "text/plain": [
       "4-element Vector{Array}:\n",
       " [0.0 42.0 … 135.0 90.0; 0.0 64.0 … 160.0 87.0; … ; 1.0 39.0 … 102.0 64.5; 0.0 35.0 … 107.0 73.0]\n",
       " [1.0 63.0 … 148.0 90.0; 1.0 45.0 … 125.0 89.0; … ; 0.0 42.0 … 115.0 72.0; 0.0 42.0 … 126.0 86.0]\n",
       " [0, 0, 0, 0, 0, 0, 0, 0, 0, 0  …  0, 0, 0, 0, 0, 0, 0, 0, 0, 0]\n",
       " [0, 0, 0, 0, 0, 0, 1, 0, 0, 1  …  0, 0, 0, 0, 0, 1, 0, 1, 0, 0]"
      ]
     },
     "execution_count": 19,
     "metadata": {},
     "output_type": "execute_result"
    }
   ],
   "source": [
    "using ScikitLearn.CrossValidation: train_test_split\n",
    "\n",
    "# Example usage\n",
    "features_train, features_test, target_train, target_test = train_test_split(\n",
    "    features, target, test_size=0.3, random_state=42\n",
    ")\n"
   ]
  },
  {
   "cell_type": "code",
   "execution_count": 20,
   "id": "91ff3c90-4282-4d87-b5d1-3fe1c1491e60",
   "metadata": {},
   "outputs": [
    {
     "name": "stderr",
     "output_type": "stream",
     "text": [
      "WARNING: redefinition of constant Main.LogisticRegression. This may fail, cause incorrect answers, or produce other errors.\n"
     ]
    }
   ],
   "source": [
    "@sk_import linear_model: LogisticRegression;\n",
    "simplelogistic = LogisticRegression(max_iter=1000);\n",
    "\n",
    "fit!(simplelogistic, features_train, target_train);"
   ]
  },
  {
   "cell_type": "code",
   "execution_count": 21,
   "id": "96404a88-3a2d-434d-b95d-7e1d29c81c55",
   "metadata": {},
   "outputs": [
    {
     "name": "stdout",
     "output_type": "stream",
     "text": [
      "              precision    recall  f1-score   support\n",
      "\n",
      "           0       0.85      0.99      0.92      2510\n",
      "           1       0.59      0.05      0.10       456\n",
      "\n",
      "    accuracy                           0.85      2966\n",
      "   macro avg       0.72      0.52      0.51      2966\n",
      "weighted avg       0.81      0.85      0.79      2966\n"
     ]
    },
    {
     "name": "stderr",
     "output_type": "stream",
     "text": [
      "WARNING: redefinition of constant Main.classification_report. This may fail, cause incorrect answers, or produce other errors.\n"
     ]
    }
   ],
   "source": [
    "logistic_target_predict_training = \n",
    "    predict(simplelogistic,features_train);\n",
    "\n",
    "@sk_import metrics: classification_report\n",
    "print(classification_report(target_train,\n",
    "                     logistic_target_predict_training))"
   ]
  },
  {
   "cell_type": "code",
   "execution_count": 22,
   "id": "e3700dec-d917-47dc-b50f-91575e1bdf3f",
   "metadata": {},
   "outputs": [
    {
     "name": "stdout",
     "output_type": "stream",
     "text": [
      "              precision    recall  f1-score   support\n",
      "\n",
      "           0       0.86      0.99      0.92      1084\n",
      "           1       0.56      0.05      0.09       188\n",
      "\n",
      "    accuracy                           0.85      1272\n",
      "   macro avg       0.71      0.52      0.50      1272\n",
      "weighted avg       0.81      0.85      0.80      1272\n"
     ]
    },
    {
     "name": "stderr",
     "output_type": "stream",
     "text": [
      "WARNING: redefinition of constant Main.classification_report. This may fail, cause incorrect answers, or produce other errors.\n"
     ]
    }
   ],
   "source": [
    "logistic_target_predict_test = \n",
    "    predict(simplelogistic,features_test);\n",
    "\n",
    "@sk_import metrics: classification_report\n",
    "print(classification_report(target_test,\n",
    "                     logistic_target_predict_test))"
   ]
  },
  {
   "cell_type": "code",
   "execution_count": 23,
   "id": "343d33c9-0c6a-4d3c-8436-bddbb3f06b12",
   "metadata": {},
   "outputs": [
    {
     "name": "stderr",
     "output_type": "stream",
     "text": [
      "\u001b[33m\u001b[1m┌ \u001b[22m\u001b[39m\u001b[33m\u001b[1mWarning: \u001b[22m\u001b[39mModule model_selection has been ported to Julia - try `import ScikitLearn: CrossValidation` instead\n",
      "\u001b[33m\u001b[1m└ \u001b[22m\u001b[39m\u001b[90m@ ScikitLearn.Skcore ~/.julia/packages/ScikitLearn/sqLdT/src/Skcore.jl:259\u001b[39m\n",
      "\u001b[33m\u001b[1m┌ \u001b[22m\u001b[39m\u001b[33m\u001b[1mWarning: \u001b[22m\u001b[39mModule model_selection has been ported to Julia - try `import ScikitLearn: CrossValidation` instead\n",
      "\u001b[33m\u001b[1m└ \u001b[22m\u001b[39m\u001b[90m@ ScikitLearn.Skcore ~/.julia/packages/ScikitLearn/sqLdT/src/Skcore.jl:259\u001b[39m\n"
     ]
    }
   ],
   "source": [
    "@sk_import model_selection: KFold\n",
    "@sk_import model_selection: cross_validate\n",
    "\n",
    "cv_results = cross_validate(simplelogistic, \n",
    "        features_train, target_train, \n",
    "            cv=KFold(5),\n",
    "            return_estimator=true,\n",
    "            return_train_score=true, \n",
    "            scoring=[\"accuracy\",\n",
    "                 \"recall_weighted\", \"precision_weighted\"]);"
   ]
  },
  {
   "cell_type": "code",
   "execution_count": 24,
   "id": "67e8ec5e-74d6-401d-8355-6c71a4a435ae",
   "metadata": {},
   "outputs": [
    {
     "data": {
      "text/html": [
       "<div><div style = \"float: left;\"><span>5×6 DataFrame</span></div><div style = \"clear: both;\"></div></div><div class = \"data-frame\" style = \"overflow-x: scroll;\"><table class = \"data-frame\" style = \"margin-bottom: 6px;\"><thead><tr class = \"header\"><th class = \"rowNumber\" style = \"font-weight: bold; text-align: right;\">Row</th><th style = \"text-align: left;\">Test Accuracy</th><th style = \"text-align: left;\">Test Precision</th><th style = \"text-align: left;\">Test Recall</th><th style = \"text-align: left;\">Train Accuracy</th><th style = \"text-align: left;\">Train Precision</th><th style = \"text-align: left;\">Train Recall</th></tr><tr class = \"subheader headerLastRow\"><th class = \"rowNumber\" style = \"font-weight: bold; text-align: right;\"></th><th title = \"Float64\" style = \"text-align: left;\">Float64</th><th title = \"Float64\" style = \"text-align: left;\">Float64</th><th title = \"Float64\" style = \"text-align: left;\">Float64</th><th title = \"Float64\" style = \"text-align: left;\">Float64</th><th title = \"Float64\" style = \"text-align: left;\">Float64</th><th title = \"Float64\" style = \"text-align: left;\">Float64</th></tr></thead><tbody><tr><td class = \"rowNumber\" style = \"font-weight: bold; text-align: right;\">1</td><td style = \"text-align: right;\">0.850168</td><td style = \"text-align: right;\">0.786732</td><td style = \"text-align: right;\">0.850168</td><td style = \"text-align: right;\">0.849073</td><td style = \"text-align: right;\">0.816889</td><td style = \"text-align: right;\">0.849073</td></tr><tr><td class = \"rowNumber\" style = \"font-weight: bold; text-align: right;\">2</td><td style = \"text-align: right;\">0.856661</td><td style = \"text-align: right;\">0.848663</td><td style = \"text-align: right;\">0.856661</td><td style = \"text-align: right;\">0.84745</td><td style = \"text-align: right;\">0.811753</td><td style = \"text-align: right;\">0.84745</td></tr><tr><td class = \"rowNumber\" style = \"font-weight: bold; text-align: right;\">3</td><td style = \"text-align: right;\">0.84317</td><td style = \"text-align: right;\">0.807717</td><td style = \"text-align: right;\">0.84317</td><td style = \"text-align: right;\">0.849558</td><td style = \"text-align: right;\">0.809593</td><td style = \"text-align: right;\">0.849558</td></tr><tr><td class = \"rowNumber\" style = \"font-weight: bold; text-align: right;\">4</td><td style = \"text-align: right;\">0.841484</td><td style = \"text-align: right;\">0.774502</td><td style = \"text-align: right;\">0.841484</td><td style = \"text-align: right;\">0.850822</td><td style = \"text-align: right;\">0.823228</td><td style = \"text-align: right;\">0.850822</td></tr><tr><td class = \"rowNumber\" style = \"font-weight: bold; text-align: right;\">5</td><td style = \"text-align: right;\">0.846543</td><td style = \"text-align: right;\">0.811443</td><td style = \"text-align: right;\">0.846543</td><td style = \"text-align: right;\">0.8504</td><td style = \"text-align: right;\">0.81955</td><td style = \"text-align: right;\">0.8504</td></tr></tbody></table></div>"
      ],
      "text/latex": [
       "\\begin{tabular}{r|cccccc}\n",
       "\t& Test Accuracy & Test Precision & Test Recall & Train Accuracy & Train Precision & Train Recall\\\\\n",
       "\t\\hline\n",
       "\t& Float64 & Float64 & Float64 & Float64 & Float64 & Float64\\\\\n",
       "\t\\hline\n",
       "\t1 & 0.850168 & 0.786732 & 0.850168 & 0.849073 & 0.816889 & 0.849073 \\\\\n",
       "\t2 & 0.856661 & 0.848663 & 0.856661 & 0.84745 & 0.811753 & 0.84745 \\\\\n",
       "\t3 & 0.84317 & 0.807717 & 0.84317 & 0.849558 & 0.809593 & 0.849558 \\\\\n",
       "\t4 & 0.841484 & 0.774502 & 0.841484 & 0.850822 & 0.823228 & 0.850822 \\\\\n",
       "\t5 & 0.846543 & 0.811443 & 0.846543 & 0.8504 & 0.81955 & 0.8504 \\\\\n",
       "\\end{tabular}\n"
      ],
      "text/plain": [
       "\u001b[1m5×6 DataFrame\u001b[0m\n",
       "\u001b[1m Row \u001b[0m│\u001b[1m Test Accuracy \u001b[0m\u001b[1m Test Precision \u001b[0m\u001b[1m Test Recall \u001b[0m\u001b[1m Train Accuracy \u001b[0m\u001b[1m Train Preci\u001b[0m ⋯\n",
       "     │\u001b[90m Float64       \u001b[0m\u001b[90m Float64        \u001b[0m\u001b[90m Float64     \u001b[0m\u001b[90m Float64        \u001b[0m\u001b[90m Float64    \u001b[0m ⋯\n",
       "─────┼──────────────────────────────────────────────────────────────────────────\n",
       "   1 │      0.850168        0.786732     0.850168        0.849073         0.81 ⋯\n",
       "   2 │      0.856661        0.848663     0.856661        0.84745          0.81\n",
       "   3 │      0.84317         0.807717     0.84317         0.849558         0.80\n",
       "   4 │      0.841484        0.774502     0.841484        0.850822         0.82\n",
       "   5 │      0.846543        0.811443     0.846543        0.8504           0.81 ⋯\n",
       "\u001b[36m                                                               2 columns omitted\u001b[0m"
      ]
     },
     "execution_count": 24,
     "metadata": {},
     "output_type": "execute_result"
    }
   ],
   "source": [
    "cv_df = DataFrame(cv_results)[!, \n",
    "        Not([:estimator, :fit_time, :score_time])]\n",
    "\n",
    "rename!(cv_df, [\"Test Accuracy\",\n",
    "                \"Test Precision\",\n",
    "                \"Test Recall\",\n",
    "                \"Train Accuracy\",\n",
    "                \"Train Precision\",\n",
    "                \"Train Recall\"])"
   ]
  },
  {
   "cell_type": "code",
   "execution_count": 25,
   "id": "23e60625-33fd-4766-bfec-53fdbbe0bc88",
   "metadata": {},
   "outputs": [
    {
     "data": {
      "text/html": [
       "<div><div style = \"float: left;\"><span>6×2 DataFrame</span></div><div style = \"clear: both;\"></div></div><div class = \"data-frame\" style = \"overflow-x: scroll;\"><table class = \"data-frame\" style = \"margin-bottom: 6px;\"><thead><tr class = \"header\"><th class = \"rowNumber\" style = \"font-weight: bold; text-align: right;\">Row</th><th style = \"text-align: left;\">variable</th><th style = \"text-align: left;\">mean</th></tr><tr class = \"subheader headerLastRow\"><th class = \"rowNumber\" style = \"font-weight: bold; text-align: right;\"></th><th title = \"Symbol\" style = \"text-align: left;\">Symbol</th><th title = \"Float64\" style = \"text-align: left;\">Float64</th></tr></thead><tbody><tr><td class = \"rowNumber\" style = \"font-weight: bold; text-align: right;\">1</td><td style = \"text-align: left;\">Test Accuracy</td><td style = \"text-align: right;\">0.847605</td></tr><tr><td class = \"rowNumber\" style = \"font-weight: bold; text-align: right;\">2</td><td style = \"text-align: left;\">Test Precision</td><td style = \"text-align: right;\">0.805811</td></tr><tr><td class = \"rowNumber\" style = \"font-weight: bold; text-align: right;\">3</td><td style = \"text-align: left;\">Test Recall</td><td style = \"text-align: right;\">0.847605</td></tr><tr><td class = \"rowNumber\" style = \"font-weight: bold; text-align: right;\">4</td><td style = \"text-align: left;\">Train Accuracy</td><td style = \"text-align: right;\">0.849461</td></tr><tr><td class = \"rowNumber\" style = \"font-weight: bold; text-align: right;\">5</td><td style = \"text-align: left;\">Train Precision</td><td style = \"text-align: right;\">0.816202</td></tr><tr><td class = \"rowNumber\" style = \"font-weight: bold; text-align: right;\">6</td><td style = \"text-align: left;\">Train Recall</td><td style = \"text-align: right;\">0.849461</td></tr></tbody></table></div>"
      ],
      "text/latex": [
       "\\begin{tabular}{r|cc}\n",
       "\t& variable & mean\\\\\n",
       "\t\\hline\n",
       "\t& Symbol & Float64\\\\\n",
       "\t\\hline\n",
       "\t1 & Test Accuracy & 0.847605 \\\\\n",
       "\t2 & Test Precision & 0.805811 \\\\\n",
       "\t3 & Test Recall & 0.847605 \\\\\n",
       "\t4 & Train Accuracy & 0.849461 \\\\\n",
       "\t5 & Train Precision & 0.816202 \\\\\n",
       "\t6 & Train Recall & 0.849461 \\\\\n",
       "\\end{tabular}\n"
      ],
      "text/plain": [
       "\u001b[1m6×2 DataFrame\u001b[0m\n",
       "\u001b[1m Row \u001b[0m│\u001b[1m variable        \u001b[0m\u001b[1m mean     \u001b[0m\n",
       "     │\u001b[90m Symbol          \u001b[0m\u001b[90m Float64  \u001b[0m\n",
       "─────┼───────────────────────────\n",
       "   1 │ Test Accuracy    0.847605\n",
       "   2 │ Test Precision   0.805811\n",
       "   3 │ Test Recall      0.847605\n",
       "   4 │ Train Accuracy   0.849461\n",
       "   5 │ Train Precision  0.816202\n",
       "   6 │ Train Recall     0.849461"
      ]
     },
     "execution_count": 25,
     "metadata": {},
     "output_type": "execute_result"
    }
   ],
   "source": [
    "describe(cv_df)[!,[:variable, :mean]]"
   ]
  },
  {
   "cell_type": "code",
   "execution_count": 26,
   "id": "abd9fc05-be73-4688-a125-ae83010deec0",
   "metadata": {},
   "outputs": [
    {
     "name": "stderr",
     "output_type": "stream",
     "text": [
      "\u001b[33m\u001b[1m┌ \u001b[22m\u001b[39m\u001b[33m\u001b[1mWarning: \u001b[22m\u001b[39mModule model_selection has been ported to Julia - try `import ScikitLearn: CrossValidation` instead\n",
      "\u001b[33m\u001b[1m└ \u001b[22m\u001b[39m\u001b[90m@ ScikitLearn.Skcore ~/.julia/packages/ScikitLearn/sqLdT/src/Skcore.jl:259\u001b[39m\n"
     ]
    }
   ],
   "source": [
    "@sk_import model_selection: learning_curve;\n",
    "lc_results = learning_curve(simplelogistic, \n",
    "        features_train,target_train, \n",
    "            train_sizes = [0.06, 0.1, 0.25, 0.5, 0.75, 1.0]);"
   ]
  },
  {
   "cell_type": "code",
   "execution_count": 27,
   "id": "39fd204d-1983-459f-b404-a113281b01ca",
   "metadata": {},
   "outputs": [
    {
     "data": {
      "image/png": "[encoded data removed]",
      "text/plain": [
       "Figure(PyObject <Figure size 640x480 with 1 Axes>)"
      ]
     },
     "metadata": {},
     "output_type": "display_data"
    }
   ],
   "source": [
    "train_sizes, train_scores, test_scores, = \n",
    "    lc_results[1], lc_results[2], lc_results[3]\n",
    "\n",
    "using Statistics\n",
    "# Calculating the error bars \n",
    "y_ax = vec(mean(test_scores, dims=2)) \n",
    "y_err = vec(std(test_scores, dims=2))\n",
    "\n",
    "using PyPlot\n",
    "begin \n",
    "    figure();\n",
    "    plot(train_sizes,\n",
    "        vec(mean(test_scores, dims=2)), label=\"Cross Val\");\n",
    "\n",
    "    fill_between(train_sizes,\n",
    "        y_ax - y_err, y_ax + y_err,alpha=0.2);\n",
    "\n",
    "    plot(train_sizes,\n",
    "        vec(mean(train_scores, dims=2)), label=\"Training\");\n",
    "    xlabel(\"Training Size\"); \n",
    "    ylabel(\"Score\"); \n",
    "    title(\"Learning Curve\");\n",
    "    legend(loc=4);\n",
    "    gcf()\n",
    "end;"
   ]
  },
  {
   "cell_type": "code",
   "execution_count": 28,
   "id": "e060ea2f-ddc4-4f00-a126-8625b0784c4b",
   "metadata": {},
   "outputs": [
    {
     "name": "stderr",
     "output_type": "stream",
     "text": [
      "WARNING: redefinition of constant Main.LogisticRegression. This may fail, cause incorrect answers, or produce other errors.\n"
     ]
    }
   ],
   "source": [
    "using ScikitLearn.GridSearch: GridSearchCV\n",
    "@sk_import linear_model: LogisticRegression;\n",
    "gridsearch = GridSearchCV(LogisticRegression(),\n",
    "            Dict(:solver => [\"newton-cg\", \"lbfgs\", \"liblinear\"], \n",
    "            :C => [0.01, 0.1, 0.5, 0.9]));"
   ]
  },
  {
   "cell_type": "code",
   "execution_count": 31,
   "id": "15665b24-3d75-4421-9495-fac14774fb6b",
   "metadata": {},
   "outputs": [
    {
     "data": {
      "text/plain": [
       "GridSearchCV\n",
       "  estimator: PyCall.PyObject\n",
       "  param_grid: Dict{Symbol, Vector}\n",
       "  scoring: Nothing nothing\n",
       "  loss_func: Nothing nothing\n",
       "  score_func: Nothing nothing\n",
       "  fit_params: Dict{Any, Any}\n",
       "  n_jobs: Int64 1\n",
       "  iid: Bool true\n",
       "  refit: Bool true\n",
       "  cv: Nothing nothing\n",
       "  verbose: Int64 0\n",
       "  error_score: String \"raise\"\n",
       "  scorer_: score (function of type typeof(score))\n",
       "  best_params_: Dict{Symbol, Any}\n",
       "  best_score_: Float64 0.8486176668914363\n",
       "  grid_scores_: Array{ScikitLearn.Skcore.CVScoreTuple}((12,))\n",
       "  best_estimator_: PyCall.PyObject\n"
      ]
     },
     "execution_count": 31,
     "metadata": {},
     "output_type": "execute_result"
    }
   ],
   "source": [
    "@sk_import preprocessing: StandardScaler\n",
    "\n",
    "# Scale the data\n",
    "scaler = StandardScaler()\n",
    "features_train_scaled = fit_transform!(scaler, features_train)\n",
    "\n",
    "# Fit the model with scaled data\n",
    "fit!(gridsearch, features_train_scaled, target_train)\n"
   ]
  },
  {
   "cell_type": "code",
   "execution_count": 32,
   "id": "e6b6f49e-0326-4359-9a3f-baabdeb7767d",
   "metadata": {},
   "outputs": [
    {
     "data": {
      "text/html": [
       "<div><div style = \"float: left;\"><span>12×4 DataFrame</span></div><div style = \"clear: both;\"></div></div><div class = \"data-frame\" style = \"overflow-x: scroll;\"><table class = \"data-frame\" style = \"margin-bottom: 6px;\"><thead><tr class = \"header\"><th class = \"rowNumber\" style = \"font-weight: bold; text-align: right;\">Row</th><th style = \"text-align: left;\">solver</th><th style = \"text-align: left;\">C</th><th style = \"text-align: left;\">mean_validation_score</th><th style = \"text-align: left;\">cv_validation_scores</th></tr><tr class = \"subheader headerLastRow\"><th class = \"rowNumber\" style = \"font-weight: bold; text-align: right;\"></th><th title = \"String\" style = \"text-align: left;\">String</th><th title = \"Float64\" style = \"text-align: left;\">Float64</th><th title = \"Float64\" style = \"text-align: left;\">Float64</th><th title = \"Vector{Float64}\" style = \"text-align: left;\">Array…</th></tr></thead><tbody><tr><td class = \"rowNumber\" style = \"font-weight: bold; text-align: right;\">1</td><td style = \"text-align: left;\">newton-cg</td><td style = \"text-align: right;\">0.01</td><td style = \"text-align: right;\">0.848618</td><td style = \"text-align: left;\">[0.848332, 0.849343, 0.848178]</td></tr><tr><td class = \"rowNumber\" style = \"font-weight: bold; text-align: right;\">2</td><td style = \"text-align: left;\">lbfgs</td><td style = \"text-align: right;\">0.01</td><td style = \"text-align: right;\">0.848618</td><td style = \"text-align: left;\">[0.848332, 0.849343, 0.848178]</td></tr><tr><td class = \"rowNumber\" style = \"font-weight: bold; text-align: right;\">3</td><td style = \"text-align: left;\">liblinear</td><td style = \"text-align: right;\">0.01</td><td style = \"text-align: right;\">0.848618</td><td style = \"text-align: left;\">[0.850354, 0.847321, 0.848178]</td></tr><tr><td class = \"rowNumber\" style = \"font-weight: bold; text-align: right;\">4</td><td style = \"text-align: left;\">newton-cg</td><td style = \"text-align: right;\">0.1</td><td style = \"text-align: right;\">0.848618</td><td style = \"text-align: left;\">[0.849343, 0.848332, 0.848178]</td></tr><tr><td class = \"rowNumber\" style = \"font-weight: bold; text-align: right;\">5</td><td style = \"text-align: left;\">lbfgs</td><td style = \"text-align: right;\">0.1</td><td style = \"text-align: right;\">0.848618</td><td style = \"text-align: left;\">[0.849343, 0.848332, 0.848178]</td></tr><tr><td class = \"rowNumber\" style = \"font-weight: bold; text-align: right;\">6</td><td style = \"text-align: left;\">liblinear</td><td style = \"text-align: right;\">0.1</td><td style = \"text-align: right;\">0.848281</td><td style = \"text-align: left;\">[0.848332, 0.847321, 0.84919]</td></tr><tr><td class = \"rowNumber\" style = \"font-weight: bold; text-align: right;\">7</td><td style = \"text-align: left;\">newton-cg</td><td style = \"text-align: right;\">0.5</td><td style = \"text-align: right;\">0.848281</td><td style = \"text-align: left;\">[0.848332, 0.848332, 0.848178]</td></tr><tr><td class = \"rowNumber\" style = \"font-weight: bold; text-align: right;\">8</td><td style = \"text-align: left;\">lbfgs</td><td style = \"text-align: right;\">0.5</td><td style = \"text-align: right;\">0.848618</td><td style = \"text-align: left;\">[0.848332, 0.848332, 0.84919]</td></tr><tr><td class = \"rowNumber\" style = \"font-weight: bold; text-align: right;\">9</td><td style = \"text-align: left;\">liblinear</td><td style = \"text-align: right;\">0.5</td><td style = \"text-align: right;\">0.848281</td><td style = \"text-align: left;\">[0.848332, 0.848332, 0.848178]</td></tr><tr><td class = \"rowNumber\" style = \"font-weight: bold; text-align: right;\">10</td><td style = \"text-align: left;\">newton-cg</td><td style = \"text-align: right;\">0.9</td><td style = \"text-align: right;\">0.848281</td><td style = \"text-align: left;\">[0.848332, 0.848332, 0.848178]</td></tr><tr><td class = \"rowNumber\" style = \"font-weight: bold; text-align: right;\">11</td><td style = \"text-align: left;\">lbfgs</td><td style = \"text-align: right;\">0.9</td><td style = \"text-align: right;\">0.848281</td><td style = \"text-align: left;\">[0.848332, 0.848332, 0.848178]</td></tr><tr><td class = \"rowNumber\" style = \"font-weight: bold; text-align: right;\">12</td><td style = \"text-align: left;\">liblinear</td><td style = \"text-align: right;\">0.9</td><td style = \"text-align: right;\">0.848281</td><td style = \"text-align: left;\">[0.848332, 0.848332, 0.848178]</td></tr></tbody></table></div>"
      ],
      "text/latex": [
       "\\begin{tabular}{r|cccc}\n",
       "\t& solver & C & mean\\_validation\\_score & cv\\_validation\\_scores\\\\\n",
       "\t\\hline\n",
       "\t& String & Float64 & Float64 & Array…\\\\\n",
       "\t\\hline\n",
       "\t1 & newton-cg & 0.01 & 0.848618 & [0.848332, 0.849343, 0.848178] \\\\\n",
       "\t2 & lbfgs & 0.01 & 0.848618 & [0.848332, 0.849343, 0.848178] \\\\\n",
       "\t3 & liblinear & 0.01 & 0.848618 & [0.850354, 0.847321, 0.848178] \\\\\n",
       "\t4 & newton-cg & 0.1 & 0.848618 & [0.849343, 0.848332, 0.848178] \\\\\n",
       "\t5 & lbfgs & 0.1 & 0.848618 & [0.849343, 0.848332, 0.848178] \\\\\n",
       "\t6 & liblinear & 0.1 & 0.848281 & [0.848332, 0.847321, 0.84919] \\\\\n",
       "\t7 & newton-cg & 0.5 & 0.848281 & [0.848332, 0.848332, 0.848178] \\\\\n",
       "\t8 & lbfgs & 0.5 & 0.848618 & [0.848332, 0.848332, 0.84919] \\\\\n",
       "\t9 & liblinear & 0.5 & 0.848281 & [0.848332, 0.848332, 0.848178] \\\\\n",
       "\t10 & newton-cg & 0.9 & 0.848281 & [0.848332, 0.848332, 0.848178] \\\\\n",
       "\t11 & lbfgs & 0.9 & 0.848281 & [0.848332, 0.848332, 0.848178] \\\\\n",
       "\t12 & liblinear & 0.9 & 0.848281 & [0.848332, 0.848332, 0.848178] \\\\\n",
       "\\end{tabular}\n"
      ],
      "text/plain": [
       "\u001b[1m12×4 DataFrame\u001b[0m\n",
       "\u001b[1m Row \u001b[0m│\u001b[1m solver    \u001b[0m\u001b[1m C       \u001b[0m\u001b[1m mean_validation_score \u001b[0m\u001b[1m cv_validation_scores        \u001b[0m ⋯\n",
       "     │\u001b[90m String    \u001b[0m\u001b[90m Float64 \u001b[0m\u001b[90m Float64               \u001b[0m\u001b[90m Vector{Float64}             \u001b[0m ⋯\n",
       "─────┼──────────────────────────────────────────────────────────────────────────\n",
       "   1 │ newton-cg     0.01               0.848618  [0.848332, 0.849343, 0.84817 ⋯\n",
       "   2 │ lbfgs         0.01               0.848618  [0.848332, 0.849343, 0.84817\n",
       "   3 │ liblinear     0.01               0.848618  [0.850354, 0.847321, 0.84817\n",
       "   4 │ newton-cg     0.1                0.848618  [0.849343, 0.848332, 0.84817\n",
       "   5 │ lbfgs         0.1                0.848618  [0.849343, 0.848332, 0.84817 ⋯\n",
       "   6 │ liblinear     0.1                0.848281  [0.848332, 0.847321, 0.84919\n",
       "   7 │ newton-cg     0.5                0.848281  [0.848332, 0.848332, 0.84817\n",
       "   8 │ lbfgs         0.5                0.848618  [0.848332, 0.848332, 0.84919\n",
       "   9 │ liblinear     0.5                0.848281  [0.848332, 0.848332, 0.84817 ⋯\n",
       "  10 │ newton-cg     0.9                0.848281  [0.848332, 0.848332, 0.84817\n",
       "  11 │ lbfgs         0.9                0.848281  [0.848332, 0.848332, 0.84817\n",
       "  12 │ liblinear     0.9                0.848281  [0.848332, 0.848332, 0.84817\n",
       "\u001b[36m                                                                1 column omitted\u001b[0m"
      ]
     },
     "execution_count": 32,
     "metadata": {},
     "output_type": "execute_result"
    }
   ],
   "source": [
    "search_results = DataFrame(gridsearch.grid_scores_)\n",
    "hcat(DataFrame(search_results.parameters), \n",
    "            search_results)[!,Not(:parameters)]"
   ]
  },
  {
   "cell_type": "code",
   "execution_count": 33,
   "id": "78b9c0ab-2d71-416b-9ddc-ae9d042bc913",
   "metadata": {},
   "outputs": [
    {
     "data": {
      "text/html": [
       "<style>#sk-container-id-6 {\n",
       "  /* Definition of color scheme common for light and dark mode */\n",
       "  --sklearn-color-text: #000;\n",
       "  --sklearn-color-text-muted: #666;\n",
       "  --sklearn-color-line: gray;\n",
       "  /* Definition of color scheme for unfitted estimators */\n",
       "  --sklearn-color-unfitted-level-0: #fff5e6;\n",
       "  --sklearn-color-unfitted-level-1: #f6e4d2;\n",
       "  --sklearn-color-unfitted-level-2: #ffe0b3;\n",
       "  --sklearn-color-unfitted-level-3: chocolate;\n",
       "  /* Definition of color scheme for fitted estimators */\n",
       "  --sklearn-color-fitted-level-0: #f0f8ff;\n",
       "  --sklearn-color-fitted-level-1: #d4ebff;\n",
       "  --sklearn-color-fitted-level-2: #b3dbfd;\n",
       "  --sklearn-color-fitted-level-3: cornflowerblue;\n",
       "\n",
       "  /* Specific color for light theme */\n",
       "  --sklearn-color-text-on-default-background: var(--sg-text-color, var(--theme-code-foreground, var(--jp-content-font-color1, black)));\n",
       "  --sklearn-color-background: var(--sg-background-color, var(--theme-background, var(--jp-layout-color0, white)));\n",
       "  --sklearn-color-border-box: var(--sg-text-color, var(--theme-code-foreground, var(--jp-content-font-color1, black)));\n",
       "  --sklearn-color-icon: #696969;\n",
       "\n",
       "  @media (prefers-color-scheme: dark) {\n",
       "    /* Redefinition of color scheme for dark theme */\n",
       "    --sklearn-color-text-on-default-background: var(--sg-text-color, var(--theme-code-foreground, var(--jp-content-font-color1, white)));\n",
       "    --sklearn-color-background: var(--sg-background-color, var(--theme-background, var(--jp-layout-color0, #111)));\n",
       "    --sklearn-color-border-box: var(--sg-text-color, var(--theme-code-foreground, var(--jp-content-font-color1, white)));\n",
       "    --sklearn-color-icon: #878787;\n",
       "  }\n",
       "}\n",
       "\n",
       "#sk-container-id-6 {\n",
       "  color: var(--sklearn-color-text);\n",
       "}\n",
       "\n",
       "#sk-container-id-6 pre {\n",
       "  padding: 0;\n",
       "}\n",
       "\n",
       "#sk-container-id-6 input.sk-hidden--visually {\n",
       "  border: 0;\n",
       "  clip: rect(1px 1px 1px 1px);\n",
       "  clip: rect(1px, 1px, 1px, 1px);\n",
       "  height: 1px;\n",
       "  margin: -1px;\n",
       "  overflow: hidden;\n",
       "  padding: 0;\n",
       "  position: absolute;\n",
       "  width: 1px;\n",
       "}\n",
       "\n",
       "#sk-container-id-6 div.sk-dashed-wrapped {\n",
       "  border: 1px dashed var(--sklearn-color-line);\n",
       "  margin: 0 0.4em 0.5em 0.4em;\n",
       "  box-sizing: border-box;\n",
       "  padding-bottom: 0.4em;\n",
       "  background-color: var(--sklearn-color-background);\n",
       "}\n",
       "\n",
       "#sk-container-id-6 div.sk-container {\n",
       "  /* jupyter's `normalize.less` sets `[hidden] { display: none; }`\n",
       "     but bootstrap.min.css set `[hidden] { display: none !important; }`\n",
       "     so we also need the `!important` here to be able to override the\n",
       "     default hidden behavior on the sphinx rendered scikit-learn.org.\n",
       "     See: https://github.com/scikit-learn/scikit-learn/issues/21755 */\n",
       "  display: inline-block !important;\n",
       "  position: relative;\n",
       "}\n",
       "\n",
       "#sk-container-id-6 div.sk-text-repr-fallback {\n",
       "  display: none;\n",
       "}\n",
       "\n",
       "div.sk-parallel-item,\n",
       "div.sk-serial,\n",
       "div.sk-item {\n",
       "  /* draw centered vertical line to link estimators */\n",
       "  background-image: linear-gradient(var(--sklearn-color-text-on-default-background), var(--sklearn-color-text-on-default-background));\n",
       "  background-size: 2px 100%;\n",
       "  background-repeat: no-repeat;\n",
       "  background-position: center center;\n",
       "}\n",
       "\n",
       "/* Parallel-specific style estimator block */\n",
       "\n",
       "#sk-container-id-6 div.sk-parallel-item::after {\n",
       "  content: \"\";\n",
       "  width: 100%;\n",
       "  border-bottom: 2px solid var(--sklearn-color-text-on-default-background);\n",
       "  flex-grow: 1;\n",
       "}\n",
       "\n",
       "#sk-container-id-6 div.sk-parallel {\n",
       "  display: flex;\n",
       "  align-items: stretch;\n",
       "  justify-content: center;\n",
       "  background-color: var(--sklearn-color-background);\n",
       "  position: relative;\n",
       "}\n",
       "\n",
       "#sk-container-id-6 div.sk-parallel-item {\n",
       "  display: flex;\n",
       "  flex-direction: column;\n",
       "}\n",
       "\n",
       "#sk-container-id-6 div.sk-parallel-item:first-child::after {\n",
       "  align-self: flex-end;\n",
       "  width: 50%;\n",
       "}\n",
       "\n",
       "#sk-container-id-6 div.sk-parallel-item:last-child::after {\n",
       "  align-self: flex-start;\n",
       "  width: 50%;\n",
       "}\n",
       "\n",
       "#sk-container-id-6 div.sk-parallel-item:only-child::after {\n",
       "  width: 0;\n",
       "}\n",
       "\n",
       "/* Serial-specific style estimator block */\n",
       "\n",
       "#sk-container-id-6 div.sk-serial {\n",
       "  display: flex;\n",
       "  flex-direction: column;\n",
       "  align-items: center;\n",
       "  background-color: var(--sklearn-color-background);\n",
       "  padding-right: 1em;\n",
       "  padding-left: 1em;\n",
       "}\n",
       "\n",
       "\n",
       "/* Toggleable style: style used for estimator/Pipeline/ColumnTransformer box that is\n",
       "clickable and can be expanded/collapsed.\n",
       "- Pipeline and ColumnTransformer use this feature and define the default style\n",
       "- Estimators will overwrite some part of the style using the `sk-estimator` class\n",
       "*/\n",
       "\n",
       "/* Pipeline and ColumnTransformer style (default) */\n",
       "\n",
       "#sk-container-id-6 div.sk-toggleable {\n",
       "  /* Default theme specific background. It is overwritten whether we have a\n",
       "  specific estimator or a Pipeline/ColumnTransformer */\n",
       "  background-color: var(--sklearn-color-background);\n",
       "}\n",
       "\n",
       "/* Toggleable label */\n",
       "#sk-container-id-6 label.sk-toggleable__label {\n",
       "  cursor: pointer;\n",
       "  display: flex;\n",
       "  width: 100%;\n",
       "  margin-bottom: 0;\n",
       "  padding: 0.5em;\n",
       "  box-sizing: border-box;\n",
       "  text-align: center;\n",
       "  align-items: start;\n",
       "  justify-content: space-between;\n",
       "  gap: 0.5em;\n",
       "}\n",
       "\n",
       "#sk-container-id-6 label.sk-toggleable__label .caption {\n",
       "  font-size: 0.6rem;\n",
       "  font-weight: lighter;\n",
       "  color: var(--sklearn-color-text-muted);\n",
       "}\n",
       "\n",
       "#sk-container-id-6 label.sk-toggleable__label-arrow:before {\n",
       "  /* Arrow on the left of the label */\n",
       "  content: \"▸\";\n",
       "  float: left;\n",
       "  margin-right: 0.25em;\n",
       "  color: var(--sklearn-color-icon);\n",
       "}\n",
       "\n",
       "#sk-container-id-6 label.sk-toggleable__label-arrow:hover:before {\n",
       "  color: var(--sklearn-color-text);\n",
       "}\n",
       "\n",
       "/* Toggleable content - dropdown */\n",
       "\n",
       "#sk-container-id-6 div.sk-toggleable__content {\n",
       "  max-height: 0;\n",
       "  max-width: 0;\n",
       "  overflow: hidden;\n",
       "  text-align: left;\n",
       "  /* unfitted */\n",
       "  background-color: var(--sklearn-color-unfitted-level-0);\n",
       "}\n",
       "\n",
       "#sk-container-id-6 div.sk-toggleable__content.fitted {\n",
       "  /* fitted */\n",
       "  background-color: var(--sklearn-color-fitted-level-0);\n",
       "}\n",
       "\n",
       "#sk-container-id-6 div.sk-toggleable__content pre {\n",
       "  margin: 0.2em;\n",
       "  border-radius: 0.25em;\n",
       "  color: var(--sklearn-color-text);\n",
       "  /* unfitted */\n",
       "  background-color: var(--sklearn-color-unfitted-level-0);\n",
       "}\n",
       "\n",
       "#sk-container-id-6 div.sk-toggleable__content.fitted pre {\n",
       "  /* unfitted */\n",
       "  background-color: var(--sklearn-color-fitted-level-0);\n",
       "}\n",
       "\n",
       "#sk-container-id-6 input.sk-toggleable__control:checked~div.sk-toggleable__content {\n",
       "  /* Expand drop-down */\n",
       "  max-height: 200px;\n",
       "  max-width: 100%;\n",
       "  overflow: auto;\n",
       "}\n",
       "\n",
       "#sk-container-id-6 input.sk-toggleable__control:checked~label.sk-toggleable__label-arrow:before {\n",
       "  content: \"▾\";\n",
       "}\n",
       "\n",
       "/* Pipeline/ColumnTransformer-specific style */\n",
       "\n",
       "#sk-container-id-6 div.sk-label input.sk-toggleable__control:checked~label.sk-toggleable__label {\n",
       "  color: var(--sklearn-color-text);\n",
       "  background-color: var(--sklearn-color-unfitted-level-2);\n",
       "}\n",
       "\n",
       "#sk-container-id-6 div.sk-label.fitted input.sk-toggleable__control:checked~label.sk-toggleable__label {\n",
       "  background-color: var(--sklearn-color-fitted-level-2);\n",
       "}\n",
       "\n",
       "/* Estimator-specific style */\n",
       "\n",
       "/* Colorize estimator box */\n",
       "#sk-container-id-6 div.sk-estimator input.sk-toggleable__control:checked~label.sk-toggleable__label {\n",
       "  /* unfitted */\n",
       "  background-color: var(--sklearn-color-unfitted-level-2);\n",
       "}\n",
       "\n",
       "#sk-container-id-6 div.sk-estimator.fitted input.sk-toggleable__control:checked~label.sk-toggleable__label {\n",
       "  /* fitted */\n",
       "  background-color: var(--sklearn-color-fitted-level-2);\n",
       "}\n",
       "\n",
       "#sk-container-id-6 div.sk-label label.sk-toggleable__label,\n",
       "#sk-container-id-6 div.sk-label label {\n",
       "  /* The background is the default theme color */\n",
       "  color: var(--sklearn-color-text-on-default-background);\n",
       "}\n",
       "\n",
       "/* On hover, darken the color of the background */\n",
       "#sk-container-id-6 div.sk-label:hover label.sk-toggleable__label {\n",
       "  color: var(--sklearn-color-text);\n",
       "  background-color: var(--sklearn-color-unfitted-level-2);\n",
       "}\n",
       "\n",
       "/* Label box, darken color on hover, fitted */\n",
       "#sk-container-id-6 div.sk-label.fitted:hover label.sk-toggleable__label.fitted {\n",
       "  color: var(--sklearn-color-text);\n",
       "  background-color: var(--sklearn-color-fitted-level-2);\n",
       "}\n",
       "\n",
       "/* Estimator label */\n",
       "\n",
       "#sk-container-id-6 div.sk-label label {\n",
       "  font-family: monospace;\n",
       "  font-weight: bold;\n",
       "  display: inline-block;\n",
       "  line-height: 1.2em;\n",
       "}\n",
       "\n",
       "#sk-container-id-6 div.sk-label-container {\n",
       "  text-align: center;\n",
       "}\n",
       "\n",
       "/* Estimator-specific */\n",
       "#sk-container-id-6 div.sk-estimator {\n",
       "  font-family: monospace;\n",
       "  border: 1px dotted var(--sklearn-color-border-box);\n",
       "  border-radius: 0.25em;\n",
       "  box-sizing: border-box;\n",
       "  margin-bottom: 0.5em;\n",
       "  /* unfitted */\n",
       "  background-color: var(--sklearn-color-unfitted-level-0);\n",
       "}\n",
       "\n",
       "#sk-container-id-6 div.sk-estimator.fitted {\n",
       "  /* fitted */\n",
       "  background-color: var(--sklearn-color-fitted-level-0);\n",
       "}\n",
       "\n",
       "/* on hover */\n",
       "#sk-container-id-6 div.sk-estimator:hover {\n",
       "  /* unfitted */\n",
       "  background-color: var(--sklearn-color-unfitted-level-2);\n",
       "}\n",
       "\n",
       "#sk-container-id-6 div.sk-estimator.fitted:hover {\n",
       "  /* fitted */\n",
       "  background-color: var(--sklearn-color-fitted-level-2);\n",
       "}\n",
       "\n",
       "/* Specification for estimator info (e.g. \"i\" and \"?\") */\n",
       "\n",
       "/* Common style for \"i\" and \"?\" */\n",
       "\n",
       ".sk-estimator-doc-link,\n",
       "a:link.sk-estimator-doc-link,\n",
       "a:visited.sk-estimator-doc-link {\n",
       "  float: right;\n",
       "  font-size: smaller;\n",
       "  line-height: 1em;\n",
       "  font-family: monospace;\n",
       "  background-color: var(--sklearn-color-background);\n",
       "  border-radius: 1em;\n",
       "  height: 1em;\n",
       "  width: 1em;\n",
       "  text-decoration: none !important;\n",
       "  margin-left: 0.5em;\n",
       "  text-align: center;\n",
       "  /* unfitted */\n",
       "  border: var(--sklearn-color-unfitted-level-1) 1pt solid;\n",
       "  color: var(--sklearn-color-unfitted-level-1);\n",
       "}\n",
       "\n",
       ".sk-estimator-doc-link.fitted,\n",
       "a:link.sk-estimator-doc-link.fitted,\n",
       "a:visited.sk-estimator-doc-link.fitted {\n",
       "  /* fitted */\n",
       "  border: var(--sklearn-color-fitted-level-1) 1pt solid;\n",
       "  color: var(--sklearn-color-fitted-level-1);\n",
       "}\n",
       "\n",
       "/* On hover */\n",
       "div.sk-estimator:hover .sk-estimator-doc-link:hover,\n",
       ".sk-estimator-doc-link:hover,\n",
       "div.sk-label-container:hover .sk-estimator-doc-link:hover,\n",
       ".sk-estimator-doc-link:hover {\n",
       "  /* unfitted */\n",
       "  background-color: var(--sklearn-color-unfitted-level-3);\n",
       "  color: var(--sklearn-color-background);\n",
       "  text-decoration: none;\n",
       "}\n",
       "\n",
       "div.sk-estimator.fitted:hover .sk-estimator-doc-link.fitted:hover,\n",
       ".sk-estimator-doc-link.fitted:hover,\n",
       "div.sk-label-container:hover .sk-estimator-doc-link.fitted:hover,\n",
       ".sk-estimator-doc-link.fitted:hover {\n",
       "  /* fitted */\n",
       "  background-color: var(--sklearn-color-fitted-level-3);\n",
       "  color: var(--sklearn-color-background);\n",
       "  text-decoration: none;\n",
       "}\n",
       "\n",
       "/* Span, style for the box shown on hovering the info icon */\n",
       ".sk-estimator-doc-link span {\n",
       "  display: none;\n",
       "  z-index: 9999;\n",
       "  position: relative;\n",
       "  font-weight: normal;\n",
       "  right: .2ex;\n",
       "  padding: .5ex;\n",
       "  margin: .5ex;\n",
       "  width: min-content;\n",
       "  min-width: 20ex;\n",
       "  max-width: 50ex;\n",
       "  color: var(--sklearn-color-text);\n",
       "  box-shadow: 2pt 2pt 4pt #999;\n",
       "  /* unfitted */\n",
       "  background: var(--sklearn-color-unfitted-level-0);\n",
       "  border: .5pt solid var(--sklearn-color-unfitted-level-3);\n",
       "}\n",
       "\n",
       ".sk-estimator-doc-link.fitted span {\n",
       "  /* fitted */\n",
       "  background: var(--sklearn-color-fitted-level-0);\n",
       "  border: var(--sklearn-color-fitted-level-3);\n",
       "}\n",
       "\n",
       ".sk-estimator-doc-link:hover span {\n",
       "  display: block;\n",
       "}\n",
       "\n",
       "/* \"?\"-specific style due to the `<a>` HTML tag */\n",
       "\n",
       "#sk-container-id-6 a.estimator_doc_link {\n",
       "  float: right;\n",
       "  font-size: 1rem;\n",
       "  line-height: 1em;\n",
       "  font-family: monospace;\n",
       "  background-color: var(--sklearn-color-background);\n",
       "  border-radius: 1rem;\n",
       "  height: 1rem;\n",
       "  width: 1rem;\n",
       "  text-decoration: none;\n",
       "  /* unfitted */\n",
       "  color: var(--sklearn-color-unfitted-level-1);\n",
       "  border: var(--sklearn-color-unfitted-level-1) 1pt solid;\n",
       "}\n",
       "\n",
       "#sk-container-id-6 a.estimator_doc_link.fitted {\n",
       "  /* fitted */\n",
       "  border: var(--sklearn-color-fitted-level-1) 1pt solid;\n",
       "  color: var(--sklearn-color-fitted-level-1);\n",
       "}\n",
       "\n",
       "/* On hover */\n",
       "#sk-container-id-6 a.estimator_doc_link:hover {\n",
       "  /* unfitted */\n",
       "  background-color: var(--sklearn-color-unfitted-level-3);\n",
       "  color: var(--sklearn-color-background);\n",
       "  text-decoration: none;\n",
       "}\n",
       "\n",
       "#sk-container-id-6 a.estimator_doc_link.fitted:hover {\n",
       "  /* fitted */\n",
       "  background-color: var(--sklearn-color-fitted-level-3);\n",
       "}\n",
       "</style><div id=\"sk-container-id-6\" class=\"sk-top-container\"><div class=\"sk-text-repr-fallback\"><pre>LogisticRegression(C=0.01, solver=&#x27;newton-cg&#x27;)</pre><b>In a Jupyter environment, please rerun this cell to show the HTML representation or trust the notebook. <br />On GitHub, the HTML representation is unable to render, please try loading this page with nbviewer.org.</b></div><div class=\"sk-container\" hidden><div class=\"sk-item\"><div class=\"sk-estimator fitted sk-toggleable\"><input class=\"sk-toggleable__control sk-hidden--visually\" id=\"sk-estimator-id-6\" type=\"checkbox\" checked><label for=\"sk-estimator-id-6\" class=\"sk-toggleable__label fitted sk-toggleable__label-arrow\"><div><div>LogisticRegression</div></div><div><a class=\"sk-estimator-doc-link fitted\" rel=\"noreferrer\" target=\"_blank\" href=\"https://scikit-learn.org/1.6/modules/generated/sklearn.linear_model.LogisticRegression.html\">?<span>Documentation for LogisticRegression</span></a><span class=\"sk-estimator-doc-link fitted\">i<span>Fitted</span></span></div></label><div class=\"sk-toggleable__content fitted\"><pre>LogisticRegression(C=0.01, solver=&#x27;newton-cg&#x27;)</pre></div> </div></div></div></div>"
      ],
      "text/plain": [
       "PyObject LogisticRegression(C=0.01, solver='newton-cg')"
      ]
     },
     "execution_count": 33,
     "metadata": {},
     "output_type": "execute_result"
    }
   ],
   "source": [
    "best_model = gridsearch.best_estimator_ "
   ]
  },
  {
   "cell_type": "code",
   "execution_count": 34,
   "id": "be0a26cf-eec8-48f5-942c-dc2d886505e2",
   "metadata": {},
   "outputs": [
    {
     "data": {
      "text/plain": [
       "4-element Vector{Int64}:\n",
       " 1\n",
       " 1\n",
       " 1\n",
       " 1"
      ]
     },
     "execution_count": 34,
     "metadata": {},
     "output_type": "execute_result"
    }
   ],
   "source": [
    "best_model_predictions = predict(best_model, features_train);\n",
    "first(best_model_predictions,4)"
   ]
  }
 ],
 "metadata": {
  "kernelspec": {
   "display_name": "Julia 1.11.5",
   "language": "julia",
   "name": "julia-1.11"
  },
  "language_info": {
   "file_extension": ".jl",
   "mimetype": "application/julia",
   "name": "julia",
   "version": "1.11.5"
  }
 },
 "nbformat": 4,
 "nbformat_minor": 5
}
